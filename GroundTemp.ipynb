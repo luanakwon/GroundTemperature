{
  "nbformat": 4,
  "nbformat_minor": 0,
  "metadata": {
    "colab": {
      "name": "GroundTemp.ipynb",
      "provenance": [],
      "collapsed_sections": [
        "jlvRIfzlLmRC",
        "26tcDT2fLxi9",
        "g4aPobAqeyQO",
        "IngnQpltp5lT",
        "CWBhrQP35Att",
        "MZK7OGlgAfMj",
        "TgNneBT3Ety6",
        "XWkyB_X8ZIO_",
        "xCa5bpcOFWmI",
        "_3iGkMJ2lXEU"
      ],
      "machine_shape": "hm",
      "authorship_tag": "ABX9TyN3NQ9TNDC7yiuFGwSPboc6",
      "include_colab_link": true
    },
    "kernelspec": {
      "name": "python3",
      "display_name": "Python 3"
    },
    "language_info": {
      "name": "python"
    },
    "gpuClass": "standard"
  },
  "cells": [
    {
      "cell_type": "markdown",
      "metadata": {
        "id": "view-in-github",
        "colab_type": "text"
      },
      "source": [
        "<a href=\"https://colab.research.google.com/github/luanakwon/GroundTemperature/blob/main/GroundTemp.ipynb\" target=\"_parent\"><img src=\"https://colab.research.google.com/assets/colab-badge.svg\" alt=\"Open In Colab\"/></a>"
      ]
    },
    {
      "cell_type": "code",
      "execution_count": 1,
      "metadata": {
        "id": "-YVc-pkKJkrA"
      },
      "outputs": [],
      "source": [
        "import pandas as pd\n",
        "import numpy as np\n",
        "import matplotlib.pyplot as plt\n",
        "import os\n"
      ]
    },
    {
      "cell_type": "code",
      "source": [
        "cols = [\"YearMonthDayHourMinute\",\"STN\",\"Lon\",\"Lat\",\"isitu-LST\",\"Band1\",\"Band2\",\"Band3\",\"Band4\",\"Band5\",\"Band6\",\"Band7\",\"Band8\",\"Band9\",\"Band10\",\"Band11\",\"Band12\",\"Band13\",\"Band14\",\"Band15\",\"Band16\",\"30daysBand3\",\"30daysBand13\",\"GK2A-LST\",\"SolarZA\",\"SateZA\",\"ESR\",\"Height\",\"LandType\",\"insitu-TA\",\"insitu-HM\",\"insitu-TD\",\"insitu-TG\",\"insitu-TED0.05\",\"insitu-TED0.1\",\"insitu-TED0.2\",\"insitu-TED0.3\",\"insitu-TED0.5\",\"insitu-TED1.0\",\"insitu-TED1.5\",\"insitu-TED3.0\",\"insitu-TED5.0\",\"insitu-PA\",\"insitu-PS\"]\n",
        "features = [\"YearMonthDayHourMinute\",\"STN\",\"Lon\",\"Lat\",\n",
        "           \"Band1\",\"Band2\",\"Band3\",\"Band4\",\n",
        "           \"Band5\",\"Band6\",\"Band7\",\"Band8\",\n",
        "           \"Band9\",\"Band10\",\"Band11\",\"Band12\",\n",
        "           \"Band13\",\"Band14\",\"Band15\",\"Band16\",\n",
        "           \"30daysBand3\",\"30daysBand13\",\n",
        "           \"GK2A-LST\",\"SolarZA\",\"SateZA\",\n",
        "           \"ESR\",\n",
        "           \"LandType\"]\n",
        "targets = [\"isitu-LST\",\"insitu-TA\"]"
      ],
      "metadata": {
        "id": "DH4wjLkFLfIf"
      },
      "execution_count": 3,
      "outputs": []
    },
    {
      "cell_type": "markdown",
      "source": [
        "# Data Overview"
      ],
      "metadata": {
        "id": "jlvRIfzlLmRC"
      }
    },
    {
      "cell_type": "code",
      "source": [
        "sample = pd.read_csv('20200101.LST.csv',header=0,names=cols)\n",
        "sample.head()"
      ],
      "metadata": {
        "colab": {
          "base_uri": "https://localhost:8080/",
          "height": 317
        },
        "id": "n8u1m3tdLW6t",
        "outputId": "dd2162fe-2b8c-4b3e-8331-7d1925bd9b33"
      },
      "execution_count": null,
      "outputs": [
        {
          "output_type": "execute_result",
          "data": {
            "text/plain": [
              "   YearMonthDayHourMinute  STN        Lon       Lat  isitu-LST    Band1  \\\n",
              "0            202001010000   92  128.66670  38.06670     -999.0 -0.00057   \n",
              "1            202001010000   93  127.75443  37.94738     -999.0  0.00000   \n",
              "2            202001010000   95  127.30420  38.14787       -2.6 -0.00057   \n",
              "3            202001010000   96  131.86983  37.23952     -999.0  0.00000   \n",
              "4            202001010000   98  127.06070  37.90188       -3.1  0.00000   \n",
              "\n",
              "     Band2   Band3    Band4   Band5  ...  insitu-TED0.1  insitu-TED0.2  \\\n",
              "0  0.00000  0.0003 -0.00030  0.0003  ...         -999.0         -999.0   \n",
              "1  0.00000  0.0003  0.00075 -0.0003  ...         -999.0         -999.0   \n",
              "2 -0.00057  0.0003 -0.00060 -0.0003  ...         -999.0         -999.0   \n",
              "3  0.00000  0.0000  0.00105  0.0000  ...         -999.0         -999.0   \n",
              "4  0.00000  0.0003  0.00060 -0.0003  ...         -999.0         -999.0   \n",
              "\n",
              "   insitu-TED0.3  insitu-TED0.5  insitu-TED1.0  insitu-TED1.5  insitu-TED3.0  \\\n",
              "0         -999.0         -999.0         -999.0         -999.0         -999.0   \n",
              "1         -999.0         -999.0         -999.0         -999.0         -999.0   \n",
              "2         -999.0         -999.0         -999.0         -999.0         -999.0   \n",
              "3         -999.0         -999.0         -999.0         -999.0         -999.0   \n",
              "4         -999.0         -999.0         -999.0         -999.0         -999.0   \n",
              "\n",
              "   insitu-TED5.0  insitu-PA  insitu-PS  \n",
              "0         -999.0     -999.0     -999.0  \n",
              "1         -999.0     -999.0     -999.0  \n",
              "2         -999.0     1014.1     1034.6  \n",
              "3         -999.0     -999.0     -999.0  \n",
              "4         -999.0     1019.6     1034.8  \n",
              "\n",
              "[5 rows x 44 columns]"
            ],
            "text/html": [
              "\n",
              "  <div id=\"df-9192ab09-270b-460b-84fa-67f871097c56\">\n",
              "    <div class=\"colab-df-container\">\n",
              "      <div>\n",
              "<style scoped>\n",
              "    .dataframe tbody tr th:only-of-type {\n",
              "        vertical-align: middle;\n",
              "    }\n",
              "\n",
              "    .dataframe tbody tr th {\n",
              "        vertical-align: top;\n",
              "    }\n",
              "\n",
              "    .dataframe thead th {\n",
              "        text-align: right;\n",
              "    }\n",
              "</style>\n",
              "<table border=\"1\" class=\"dataframe\">\n",
              "  <thead>\n",
              "    <tr style=\"text-align: right;\">\n",
              "      <th></th>\n",
              "      <th>YearMonthDayHourMinute</th>\n",
              "      <th>STN</th>\n",
              "      <th>Lon</th>\n",
              "      <th>Lat</th>\n",
              "      <th>isitu-LST</th>\n",
              "      <th>Band1</th>\n",
              "      <th>Band2</th>\n",
              "      <th>Band3</th>\n",
              "      <th>Band4</th>\n",
              "      <th>Band5</th>\n",
              "      <th>...</th>\n",
              "      <th>insitu-TED0.1</th>\n",
              "      <th>insitu-TED0.2</th>\n",
              "      <th>insitu-TED0.3</th>\n",
              "      <th>insitu-TED0.5</th>\n",
              "      <th>insitu-TED1.0</th>\n",
              "      <th>insitu-TED1.5</th>\n",
              "      <th>insitu-TED3.0</th>\n",
              "      <th>insitu-TED5.0</th>\n",
              "      <th>insitu-PA</th>\n",
              "      <th>insitu-PS</th>\n",
              "    </tr>\n",
              "  </thead>\n",
              "  <tbody>\n",
              "    <tr>\n",
              "      <th>0</th>\n",
              "      <td>202001010000</td>\n",
              "      <td>92</td>\n",
              "      <td>128.66670</td>\n",
              "      <td>38.06670</td>\n",
              "      <td>-999.0</td>\n",
              "      <td>-0.00057</td>\n",
              "      <td>0.00000</td>\n",
              "      <td>0.0003</td>\n",
              "      <td>-0.00030</td>\n",
              "      <td>0.0003</td>\n",
              "      <td>...</td>\n",
              "      <td>-999.0</td>\n",
              "      <td>-999.0</td>\n",
              "      <td>-999.0</td>\n",
              "      <td>-999.0</td>\n",
              "      <td>-999.0</td>\n",
              "      <td>-999.0</td>\n",
              "      <td>-999.0</td>\n",
              "      <td>-999.0</td>\n",
              "      <td>-999.0</td>\n",
              "      <td>-999.0</td>\n",
              "    </tr>\n",
              "    <tr>\n",
              "      <th>1</th>\n",
              "      <td>202001010000</td>\n",
              "      <td>93</td>\n",
              "      <td>127.75443</td>\n",
              "      <td>37.94738</td>\n",
              "      <td>-999.0</td>\n",
              "      <td>0.00000</td>\n",
              "      <td>0.00000</td>\n",
              "      <td>0.0003</td>\n",
              "      <td>0.00075</td>\n",
              "      <td>-0.0003</td>\n",
              "      <td>...</td>\n",
              "      <td>-999.0</td>\n",
              "      <td>-999.0</td>\n",
              "      <td>-999.0</td>\n",
              "      <td>-999.0</td>\n",
              "      <td>-999.0</td>\n",
              "      <td>-999.0</td>\n",
              "      <td>-999.0</td>\n",
              "      <td>-999.0</td>\n",
              "      <td>-999.0</td>\n",
              "      <td>-999.0</td>\n",
              "    </tr>\n",
              "    <tr>\n",
              "      <th>2</th>\n",
              "      <td>202001010000</td>\n",
              "      <td>95</td>\n",
              "      <td>127.30420</td>\n",
              "      <td>38.14787</td>\n",
              "      <td>-2.6</td>\n",
              "      <td>-0.00057</td>\n",
              "      <td>-0.00057</td>\n",
              "      <td>0.0003</td>\n",
              "      <td>-0.00060</td>\n",
              "      <td>-0.0003</td>\n",
              "      <td>...</td>\n",
              "      <td>-999.0</td>\n",
              "      <td>-999.0</td>\n",
              "      <td>-999.0</td>\n",
              "      <td>-999.0</td>\n",
              "      <td>-999.0</td>\n",
              "      <td>-999.0</td>\n",
              "      <td>-999.0</td>\n",
              "      <td>-999.0</td>\n",
              "      <td>1014.1</td>\n",
              "      <td>1034.6</td>\n",
              "    </tr>\n",
              "    <tr>\n",
              "      <th>3</th>\n",
              "      <td>202001010000</td>\n",
              "      <td>96</td>\n",
              "      <td>131.86983</td>\n",
              "      <td>37.23952</td>\n",
              "      <td>-999.0</td>\n",
              "      <td>0.00000</td>\n",
              "      <td>0.00000</td>\n",
              "      <td>0.0000</td>\n",
              "      <td>0.00105</td>\n",
              "      <td>0.0000</td>\n",
              "      <td>...</td>\n",
              "      <td>-999.0</td>\n",
              "      <td>-999.0</td>\n",
              "      <td>-999.0</td>\n",
              "      <td>-999.0</td>\n",
              "      <td>-999.0</td>\n",
              "      <td>-999.0</td>\n",
              "      <td>-999.0</td>\n",
              "      <td>-999.0</td>\n",
              "      <td>-999.0</td>\n",
              "      <td>-999.0</td>\n",
              "    </tr>\n",
              "    <tr>\n",
              "      <th>4</th>\n",
              "      <td>202001010000</td>\n",
              "      <td>98</td>\n",
              "      <td>127.06070</td>\n",
              "      <td>37.90188</td>\n",
              "      <td>-3.1</td>\n",
              "      <td>0.00000</td>\n",
              "      <td>0.00000</td>\n",
              "      <td>0.0003</td>\n",
              "      <td>0.00060</td>\n",
              "      <td>-0.0003</td>\n",
              "      <td>...</td>\n",
              "      <td>-999.0</td>\n",
              "      <td>-999.0</td>\n",
              "      <td>-999.0</td>\n",
              "      <td>-999.0</td>\n",
              "      <td>-999.0</td>\n",
              "      <td>-999.0</td>\n",
              "      <td>-999.0</td>\n",
              "      <td>-999.0</td>\n",
              "      <td>1019.6</td>\n",
              "      <td>1034.8</td>\n",
              "    </tr>\n",
              "  </tbody>\n",
              "</table>\n",
              "<p>5 rows × 44 columns</p>\n",
              "</div>\n",
              "      <button class=\"colab-df-convert\" onclick=\"convertToInteractive('df-9192ab09-270b-460b-84fa-67f871097c56')\"\n",
              "              title=\"Convert this dataframe to an interactive table.\"\n",
              "              style=\"display:none;\">\n",
              "        \n",
              "  <svg xmlns=\"http://www.w3.org/2000/svg\" height=\"24px\"viewBox=\"0 0 24 24\"\n",
              "       width=\"24px\">\n",
              "    <path d=\"M0 0h24v24H0V0z\" fill=\"none\"/>\n",
              "    <path d=\"M18.56 5.44l.94 2.06.94-2.06 2.06-.94-2.06-.94-.94-2.06-.94 2.06-2.06.94zm-11 1L8.5 8.5l.94-2.06 2.06-.94-2.06-.94L8.5 2.5l-.94 2.06-2.06.94zm10 10l.94 2.06.94-2.06 2.06-.94-2.06-.94-.94-2.06-.94 2.06-2.06.94z\"/><path d=\"M17.41 7.96l-1.37-1.37c-.4-.4-.92-.59-1.43-.59-.52 0-1.04.2-1.43.59L10.3 9.45l-7.72 7.72c-.78.78-.78 2.05 0 2.83L4 21.41c.39.39.9.59 1.41.59.51 0 1.02-.2 1.41-.59l7.78-7.78 2.81-2.81c.8-.78.8-2.07 0-2.86zM5.41 20L4 18.59l7.72-7.72 1.47 1.35L5.41 20z\"/>\n",
              "  </svg>\n",
              "      </button>\n",
              "      \n",
              "  <style>\n",
              "    .colab-df-container {\n",
              "      display:flex;\n",
              "      flex-wrap:wrap;\n",
              "      gap: 12px;\n",
              "    }\n",
              "\n",
              "    .colab-df-convert {\n",
              "      background-color: #E8F0FE;\n",
              "      border: none;\n",
              "      border-radius: 50%;\n",
              "      cursor: pointer;\n",
              "      display: none;\n",
              "      fill: #1967D2;\n",
              "      height: 32px;\n",
              "      padding: 0 0 0 0;\n",
              "      width: 32px;\n",
              "    }\n",
              "\n",
              "    .colab-df-convert:hover {\n",
              "      background-color: #E2EBFA;\n",
              "      box-shadow: 0px 1px 2px rgba(60, 64, 67, 0.3), 0px 1px 3px 1px rgba(60, 64, 67, 0.15);\n",
              "      fill: #174EA6;\n",
              "    }\n",
              "\n",
              "    [theme=dark] .colab-df-convert {\n",
              "      background-color: #3B4455;\n",
              "      fill: #D2E3FC;\n",
              "    }\n",
              "\n",
              "    [theme=dark] .colab-df-convert:hover {\n",
              "      background-color: #434B5C;\n",
              "      box-shadow: 0px 1px 3px 1px rgba(0, 0, 0, 0.15);\n",
              "      filter: drop-shadow(0px 1px 2px rgba(0, 0, 0, 0.3));\n",
              "      fill: #FFFFFF;\n",
              "    }\n",
              "  </style>\n",
              "\n",
              "      <script>\n",
              "        const buttonEl =\n",
              "          document.querySelector('#df-9192ab09-270b-460b-84fa-67f871097c56 button.colab-df-convert');\n",
              "        buttonEl.style.display =\n",
              "          google.colab.kernel.accessAllowed ? 'block' : 'none';\n",
              "\n",
              "        async function convertToInteractive(key) {\n",
              "          const element = document.querySelector('#df-9192ab09-270b-460b-84fa-67f871097c56');\n",
              "          const dataTable =\n",
              "            await google.colab.kernel.invokeFunction('convertToInteractive',\n",
              "                                                     [key], {});\n",
              "          if (!dataTable) return;\n",
              "\n",
              "          const docLinkHtml = 'Like what you see? Visit the ' +\n",
              "            '<a target=\"_blank\" href=https://colab.research.google.com/notebooks/data_table.ipynb>data table notebook</a>'\n",
              "            + ' to learn more about interactive tables.';\n",
              "          element.innerHTML = '';\n",
              "          dataTable['output_type'] = 'display_data';\n",
              "          await google.colab.output.renderOutput(dataTable, element);\n",
              "          const docLink = document.createElement('div');\n",
              "          docLink.innerHTML = docLinkHtml;\n",
              "          element.appendChild(docLink);\n",
              "        }\n",
              "      </script>\n",
              "    </div>\n",
              "  </div>\n",
              "  "
            ]
          },
          "metadata": {},
          "execution_count": 2
        }
      ]
    },
    {
      "cell_type": "code",
      "source": [
        "print(sample.shape)\n",
        "df = sample.iloc[:,1:4].drop_duplicates().to_numpy()\n",
        "df[:,1:] -= [124.63048,33.12206]\n",
        "print(min(df[:,1]),max(df[:,1]))\n",
        "print(min(df[:,2]),max(df[:,2]))\n",
        "plt.figure(figsize=(10,10))\n",
        "plt.plot(df[:,1],df[:,2],'b*')\n",
        "plt.show()"
      ],
      "metadata": {
        "colab": {
          "base_uri": "https://localhost:8080/",
          "height": 647
        },
        "id": "0Pa5kqHXLwX0",
        "outputId": "dfdec9eb-061a-4ebf-c383-754bcf0a2076"
      },
      "execution_count": null,
      "outputs": [
        {
          "output_type": "stream",
          "name": "stdout",
          "text": [
            "(104543, 44)\n",
            "0.0 7.239350000000002\n",
            "0.0 5.420450000000002\n"
          ]
        },
        {
          "output_type": "display_data",
          "data": {
            "text/plain": [
              "<Figure size 720x720 with 1 Axes>"
            ],
            "image/png": "[encoded data removed]"
          },
          "metadata": {
            "needs_background": "light"
          }
        }
      ]
    },
    {
      "cell_type": "code",
      "source": [
        "for i in range(4,44):\n",
        "  col = sample.loc[sample.iloc[:,i] > -999].iloc[:,i]\n",
        "  if i == 28:\n",
        "    print(f\"{cols[i]} \\t\\tmin: {np.min(col)} \\t\\t\\tmax: {np.max(col)} \\t\\t\\tavg: {np.mean(col)} \")\n",
        "  elif len(cols[i]) > 6:\n",
        "    print(f\"{cols[i]} \\t\\tmin: {np.min(col)} \\t\\tmax: {np.max(col)} \\t\\tavg: {np.mean(col)} \")\n",
        "  else:\n",
        "    print(f\"{cols[i]} \\t\\t\\tmin: {np.min(col)} \\t\\tmax: {np.max(col)} \\t\\tavg: {np.mean(col)} \")"
      ],
      "metadata": {
        "colab": {
          "base_uri": "https://localhost:8080/"
        },
        "id": "2PVRYOJgUqqT",
        "outputId": "0478f1c2-5010-49a8-9123-48190c63bfe7"
      },
      "execution_count": null,
      "outputs": [
        {
          "output_type": "stream",
          "name": "stdout",
          "text": [
            "isitu-LST \t\tmin: -4.9 \t\tmax: 26.2 \t\tavg: 0.27080945558739256 \n",
            "Band1 \t\t\tmin: -0.00113 \t\tmax: 0.47359 \t\tavg: 0.05738944055405184 \n",
            "Band2 \t\t\tmin: -0.00114 \t\tmax: 0.48815 \t\tavg: 0.054203694192665935 \n",
            "Band3 \t\t\tmin: -0.00328 \t\tmax: 0.50395 \t\tavg: 0.0484779530327403 \n",
            "Band4 \t\t\tmin: -0.00254 \t\tmax: 0.5813 \t\tavg: 0.059793412735871763 \n",
            "Band5 \t\t\tmin: -0.00151 \t\tmax: 0.08579 \t\tavg: 0.0038715424256143016 \n",
            "Band6 \t\t\tmin: -0.00129 \t\tmax: 0.42633 \t\tavg: 0.05491612221505149 \n",
            "Band7 \t\t\tmin: 238.19384 \t\tmax: 308.08012 \t\tavg: 271.8489144462853 \n",
            "Band8 \t\t\tmin: 228.0943 \t\tmax: 245.40486 \t\tavg: 238.82654382596303 \n",
            "Band9 \t\t\tmin: 230.42801 \t\tmax: 254.45996 \t\tavg: 248.05423254235814 \n",
            "Band10 \t\t\tmin: 231.328 \t\tmax: 262.12081 \t\tavg: 253.84858025438996 \n",
            "Band11 \t\t\tmin: 233.6343 \t\tmax: 285.24053 \t\tavg: 265.11799543090245 \n",
            "Band12 \t\t\tmin: 229.78848 \t\tmax: 262.39371 \t\tavg: 247.0980390755849 \n",
            "Band13 \t\t\tmin: 234.30622 \t\tmax: 287.81421 \t\tavg: 266.98636089782985 \n",
            "Band14 \t\t\tmin: 233.11319 \t\tmax: 288.20345 \t\tavg: 266.92803029484577 \n",
            "Band15 \t\t\tmin: 232.36465 \t\tmax: 285.74026 \t\tavg: 265.9924192247898 \n",
            "Band16 \t\t\tmin: 230.6272 \t\tmax: 268.00158 \t\tavg: 256.221362325438 \n",
            "30daysBand3 \t\tmin: 0.0 \t\tmax: 0.21487 \t\tavg: 0.019210284357450414 \n",
            "30daysBand13 \t\tmin: 265.50862 \t\tmax: 290.35593 \t\tavg: 275.82567759345767 \n",
            "GK2A-LST \t\tmin: -14.20999 \t\tmax: 17.82999 \t\tavg: 0.052154087772564084 \n",
            "SolarZA \t\tmin: 56.0863 \t\tmax: 169.73367 \t\tavg: 106.19515512411161 \n",
            "SateZA \t\t\tmin: 38.74888 \t\tmax: 44.84209 \t\tavg: 42.36327311202089 \n",
            "ESR \t\t\tmin: -9.63335 \t\tmax: 5.44919 \t\tavg: -2.2684307772878145 \n",
            "Height \t\t\tmin: 1.1 \t\tmax: 1665.71 \t\tavg: 137.86955329385995 \n",
            "LandType \t\tmin: 0 \t\t\tmax: 4 \t\t\tavg: 1.8787867193403671 \n",
            "insitu-TA \t\tmin: -10.6 \t\tmax: 9.4 \t\tavg: -0.5956876790830945 \n",
            "insitu-HM \t\tmin: 17.6 \t\tmax: 100.0 \t\tavg: 62.92393982808023 \n",
            "insitu-TD \t\tmin: -23.8 \t\tmax: 4.7 \t\tavg: -7.160573065902579 \n",
            "insitu-TG \t\tmin: -14.1 \t\tmax: 21.5 \t\tavg: 0.39805572109654364 \n",
            "insitu-TED0.05 \t\tmin: -3.1 \t\tmax: 25.7 \t\tavg: 2.2023276318109684 \n",
            "insitu-TED0.1 \t\tmin: -2.2 \t\tmax: 9.5 \t\tavg: 1.7778323454699407 \n",
            "insitu-TED0.2 \t\tmin: -0.2 \t\tmax: 10.3 \t\tavg: 2.900982218458933 \n",
            "insitu-TED0.3 \t\tmin: 0.0 \t\tmax: 11.6 \t\tavg: 3.6929551227773074 \n",
            "insitu-TED0.5 \t\tmin: 1.7 \t\tmax: 12.9 \t\tavg: 5.494032663316583 \n",
            "insitu-TED1.0 \t\tmin: 5.1 \t\tmax: 15.6 \t\tavg: 8.661023869346733 \n",
            "insitu-TED1.5 \t\tmin: 9.1 \t\tmax: 14.9 \t\tavg: 11.298426848453069 \n",
            "insitu-TED3.0 \t\tmin: -48.4 \t\tmax: 18.8 \t\tavg: 11.395660653339835 \n",
            "insitu-TED5.0 \t\tmin: 15.4 \t\tmax: 20.2 \t\tavg: 17.408023072889353 \n",
            "insitu-PA \t\tmin: 934.0 \t\tmax: 1034.3 \t\tavg: 1019.9422463255521 \n",
            "insitu-PS \t\tmin: 1025.0 \t\tmax: 1037.9 \t\tavg: 1031.8760433859939 \n"
          ]
        }
      ]
    },
    {
      "cell_type": "code",
      "source": [
        "df_LST = sample.loc[(sample['isitu-LST'] > -999)]\n",
        "print(f\"df size from {sample.shape} -> {df_LST.shape}\")\n",
        "df_TA = sample.loc[(sample['insitu-TA'] > -999)]\n",
        "print(f\"df size from {sample.shape} -> {df_TA.shape}\")\n",
        "df_LST_TA = sample.loc[(sample['isitu-LST'] > -999) | (sample['insitu-TA'] > -999)]\n",
        "print(f\"df size from {sample.shape} -> {df_LST_TA.shape}\")"
      ],
      "metadata": {
        "colab": {
          "base_uri": "https://localhost:8080/"
        },
        "id": "MCpLRj3Pi9RQ",
        "outputId": "b2d9543c-4f30-42ee-a1d1-cc480078d651"
      },
      "execution_count": null,
      "outputs": [
        {
          "output_type": "stream",
          "name": "stdout",
          "text": [
            "df size from (104543, 44) -> (13960, 44)\n",
            "df size from (104543, 44) -> (13960, 44)\n",
            "df size from (104543, 44) -> (13960, 44)\n"
          ]
        }
      ]
    },
    {
      "cell_type": "markdown",
      "source": [
        "# Drop unlabeled data"
      ],
      "metadata": {
        "id": "26tcDT2fLxi9"
      }
    },
    {
      "cell_type": "code",
      "source": [
        "%%bash\n",
        "STARTYEAR=2020\n",
        "ENDYEAR=2021\n",
        "for (( c=$STARTYEAR; c<=$ENDYEAR; c++ ))\n",
        "do\n",
        "  STARTMONTH=1\n",
        "  ENDMONTH=12\n",
        "  for (( d=$STARTMONTH; d<=$ENDMONTH; d++ ))\n",
        "  do\n",
        "    wget \"https://bd.kma.go.kr/contest/resources/$c$(printf '%02d' $d).zip\"\n",
        "    unzip \"/content/$c$(printf '%02d' $d).zip\" -d \"/content/data\"\n",
        "  done\n",
        "done"
      ],
      "metadata": {
        "id": "kB07B3CvazsT"
      },
      "execution_count": null,
      "outputs": []
    },
    {
      "cell_type": "code",
      "source": [
        "folderpath='data/'\n",
        "\n",
        "for year in [2020]:\n",
        "  for month in range(3,4):\n",
        "    allmon = []\n",
        "    for i in range(1,32):\n",
        "      try:\n",
        "        df = pd.read_csv(folderpath + '%d%02d%02d.LST.csv'%(year,month,i),names=cols)\n",
        "      except FileNotFoundError:\n",
        "        print('%d%02d%02d.LST.csv missing'%(year,month,i))\n",
        "        continue\n",
        "      # exclude testset\n",
        "      if year==2021 and ((month==7 and 1<=i and i<=11) or (month==8 and 21<=i and i<=31)):\n",
        "        continue\n",
        "\n",
        "      len0 = df.shape[0]\n",
        "      df = df.loc[(df['isitu-LST'] > -999) | (df['insitu-TA'] > -999)]\n",
        "      len1 = df.shape[0]\n",
        "      print(f\"dropped {len0-len1}, concatenating {len1} from\",'%d%02d%02d.LST.csv'%(year,month,i))\n",
        "      allmon.append(df)\n",
        "      \n",
        "    if len(allmon) != 0:\n",
        "      df_all = pd.concat(allmon)\n",
        "      print('='*10 + ' %d%02d done '%(year,month) + '='*10 + f'  {df_all.shape}')\n",
        "      df_all.to_csv('%d%02d.LST.csv'%(year,month),header=False, index=False)"
      ],
      "metadata": {
        "id": "ak310q3lt4CI"
      },
      "execution_count": null,
      "outputs": []
    },
    {
      "cell_type": "markdown",
      "source": [
        "# Gather test data"
      ],
      "metadata": {
        "id": "g4aPobAqeyQO"
      }
    },
    {
      "cell_type": "code",
      "source": [
        "%%bash\n",
        "YEAR=2021\n",
        "STARTMONTH=7\n",
        "ENDMONTH=8\n",
        "for (( d=$STARTMONTH; d<=$ENDMONTH; d++ ))\n",
        "do\n",
        "  wget \"https://bd.kma.go.kr/contest/resources/$YEAR$(printf '%02d' $d).zip\"\n",
        "  unzip \"/content/$YEAR$(printf '%02d' $d).zip\" -d \"/content/data\"\n",
        "done"
      ],
      "metadata": {
        "id": "3Cmv8i8rexcm"
      },
      "execution_count": null,
      "outputs": []
    },
    {
      "cell_type": "code",
      "source": [
        "df = pd.read_csv('data/202107/20210701.LST.csv')\n",
        "df.dtypes"
      ],
      "metadata": {
        "id": "uZx4_aaWkaZS"
      },
      "execution_count": null,
      "outputs": []
    },
    {
      "cell_type": "code",
      "source": [
        "testsetcols = cols[:]\n",
        "testsetcols.remove('isitu-LST')\n",
        "testsetcols.remove('insitu-TA')\n",
        "print(len(testsetcols))\n",
        "testdays = {7:(1,11), 8:(21,31)}\n",
        "folderpath = '/content/data/'\n",
        "dfList = []\n",
        "for month in [7, 8]:\n",
        "  day0, day1 = testdays[month]\n",
        "  for day in range(day0,day1+1):\n",
        "    df = pd.read_csv(folderpath+'2021%02d/2021%02d%02d.LST.csv'%(month,month,day), usecols=testsetcols)\n",
        "    dfList.append(df)\n",
        "    print(f'appended {df.shape[0]}rows from '+'2021%02d/2021%02d%02d.LST.csv'%(month,month,day))\n",
        "df_all = pd.concat(dfList)\n",
        "print(f'{df_all.shape[0]} rows concatenated')\n",
        "\n",
        "df_all.to_csv('test.LST.csv', index=False)\n",
        "print('test.LST.csv saved')"
      ],
      "metadata": {
        "id": "eGCjxPjSfXpf"
      },
      "execution_count": null,
      "outputs": []
    },
    {
      "cell_type": "code",
      "source": [
        "print(df_all.shape)"
      ],
      "metadata": {
        "colab": {
          "base_uri": "https://localhost:8080/"
        },
        "id": "OYyrRrznl05s",
        "outputId": "21513973-745b-4d5a-83ba-5da00421a7b9"
      },
      "execution_count": null,
      "outputs": [
        {
          "output_type": "stream",
          "name": "stdout",
          "text": [
            "(54503, 27)\n"
          ]
        }
      ]
    },
    {
      "cell_type": "markdown",
      "source": [
        "# Training"
      ],
      "metadata": {
        "id": "Y0xYg6cW4zkd"
      }
    },
    {
      "cell_type": "markdown",
      "source": [
        "## prepare train data"
      ],
      "metadata": {
        "id": "IngnQpltp5lT"
      }
    },
    {
      "cell_type": "code",
      "source": [
        "!gdown 1-EMhXFZJhzG7km6m75MoM3lsAVDpKji3 -O train10M.csv"
      ],
      "metadata": {
        "id": "Yvvg0vSJ5H5O",
        "colab": {
          "base_uri": "https://localhost:8080/"
        },
        "outputId": "ec66f0bb-06c6-4fa4-dd54-584df3b21aa7"
      },
      "execution_count": 4,
      "outputs": [
        {
          "output_type": "stream",
          "name": "stdout",
          "text": [
            "Downloading...\n",
            "From: https://drive.google.com/uc?id=1-EMhXFZJhzG7km6m75MoM3lsAVDpKji3\n",
            "To: /content/train10M.csv\n",
            "100% 3.51G/3.51G [00:29<00:00, 119MB/s]\n"
          ]
        }
      ]
    },
    {
      "cell_type": "code",
      "source": [
        "import sklearn\n",
        "from sklearn.ensemble import RandomForestRegressor\n",
        "from sklearn.ensemble import GradientBoostingRegressor\n",
        "from sklearn.ensemble import AdaBoostRegressor\n",
        "\n",
        "from sklearn.model_selection import train_test_split\n",
        "from sklearn.metrics import mean_squared_error # idk but xgb cannot recognize this\n",
        "import joblib\n",
        "\n"
      ],
      "metadata": {
        "id": "2z5rarTnFGd8"
      },
      "execution_count": 5,
      "outputs": []
    },
    {
      "cell_type": "code",
      "source": [
        "RANDOM_STATE = 31415\n",
        "target = targets[:1] # isitu-LST\n",
        "timecol = features[:1] # time column\n",
        "# featureInUse = features[1:] # excluding time column\n",
        "featureInUse = features[1:] + cols[cols.index('insitu-TA')+1:]\n",
        "\n",
        "# sample fraction of train data\n",
        "fraction = 0.2 # 0.0 ~ 1.0"
      ],
      "metadata": {
        "id": "5d7DJTmeF33F"
      },
      "execution_count": 6,
      "outputs": []
    },
    {
      "cell_type": "code",
      "source": [
        "df = pd.read_csv(f'/content/train10M.csv',usecols=timecol+featureInUse+targets)\n",
        "print(df.shape)"
      ],
      "metadata": {
        "colab": {
          "base_uri": "https://localhost:8080/"
        },
        "id": "chls5dGA49B2",
        "outputId": "d3d5df30-6d70-451e-84cb-cbaab2ce2b11"
      },
      "execution_count": 7,
      "outputs": [
        {
          "output_type": "stream",
          "name": "stdout",
          "text": [
            "(10583013, 43)\n"
          ]
        }
      ]
    },
    {
      "cell_type": "code",
      "source": [
        "X_train, X_val, Y_train_all, Y_val_all = train_test_split(\n",
        "    df.loc[:,timecol+featureInUse],df.loc[:,targets], test_size=0.2*fraction, train_size=0.8*fraction, \n",
        "    random_state=RANDOM_STATE, shuffle=True, stratify=None)\n",
        "print(f\"{X_train.shape[0]} train values, {X_val.shape[0]} test values out of {df.shape[0]} values\")\n",
        "print(X_train.shape)\n",
        "print(X_val.shape)\n",
        "print(Y_train_all.shape)\n",
        "print(Y_val_all.shape)"
      ],
      "metadata": {
        "colab": {
          "base_uri": "https://localhost:8080/"
        },
        "id": "mQnMqp5VGoEw",
        "outputId": "20703b0b-706b-4181-92e7-3c583618be43"
      },
      "execution_count": 8,
      "outputs": [
        {
          "output_type": "stream",
          "name": "stdout",
          "text": [
            "1693282 train values, 423321 test values out of 10583013 values\n",
            "(1693282, 41)\n",
            "(423321, 41)\n",
            "(1693282, 2)\n",
            "(423321, 2)\n"
          ]
        }
      ]
    },
    {
      "cell_type": "code",
      "source": [
        "# Trying to split YMDH to 4 different columns\n",
        "for df_subset in [X_train, X_val]:\n",
        "  YMDH = pd.to_datetime(df_subset[timecol[0]])\n",
        "  df_subset.insert(0,'Hour',YMDH.dt.hour)\n",
        "  df_subset.insert(0,'Day',YMDH.dt.day)\n",
        "  df_subset.insert(0,'Month',YMDH.dt.month)\n",
        "  df_subset.insert(0,'Year',YMDH.dt.year)\n",
        "  df_subset.drop(columns=timecol[0], inplace=True)\n",
        "\n",
        "# split labels into LST & TA\n",
        "Y_train_LST = Y_train_all.loc[:,targets[:1]]\n",
        "Y_train_TA = Y_train_all.loc[:,targets[1:]]\n",
        "Y_val_LST = Y_val_all.loc[:,targets[:1]]\n",
        "Y_val_TA = Y_val_all.loc[:,targets[1:]]\n",
        "\n",
        "# check shapes\n",
        "for df_subset in [X_train, X_val, Y_train_LST, Y_train_TA, Y_val_LST, Y_val_TA]:\n",
        "  print(df_subset.shape)"
      ],
      "metadata": {
        "colab": {
          "base_uri": "https://localhost:8080/"
        },
        "id": "lLZzUX30wSBl",
        "outputId": "9a7f2549-7fbc-426f-c091-f1cdea23a15d"
      },
      "execution_count": 9,
      "outputs": [
        {
          "output_type": "stream",
          "name": "stdout",
          "text": [
            "(1693282, 44)\n",
            "(423321, 44)\n",
            "(1693282, 1)\n",
            "(1693282, 1)\n",
            "(423321, 1)\n",
            "(423321, 1)\n"
          ]
        }
      ]
    },
    {
      "cell_type": "markdown",
      "source": [
        "**WARNING! training all 3 models at the same time will require LARGE amount of memory**"
      ],
      "metadata": {
        "id": "Lra79wOaGLEb"
      }
    },
    {
      "cell_type": "markdown",
      "source": [
        "## Random Forest Regressor"
      ],
      "metadata": {
        "id": "CWBhrQP35Att"
      }
    },
    {
      "cell_type": "code",
      "source": [
        "RFR_model = RandomForestRegressor(\n",
        "    n_estimators=100,\n",
        "    criterion='squared_error', \n",
        "    max_depth=None, \n",
        "    min_samples_split=2, \n",
        "    min_samples_leaf=1, \n",
        "    min_weight_fraction_leaf=0.0, \n",
        "    max_features=0.8, \n",
        "    max_leaf_nodes=None, \n",
        "    min_impurity_decrease=0.0, \n",
        "    bootstrap=True, \n",
        "    oob_score=False, \n",
        "    n_jobs=None, \n",
        "    random_state=RANDOM_STATE, \n",
        "    verbose=1, \n",
        "    warm_start=False, \n",
        "    ccp_alpha=0.0, \n",
        "    max_samples=None\n",
        ")"
      ],
      "metadata": {
        "id": "6M8owEuJFk4N"
      },
      "execution_count": null,
      "outputs": []
    },
    {
      "cell_type": "code",
      "source": [
        "RFR_model.fit(X_train, Y_train.values.ravel())"
      ],
      "metadata": {
        "colab": {
          "base_uri": "https://localhost:8080/"
        },
        "id": "rK5WlkQcGAcz",
        "outputId": "5da62d88-fe23-4c1d-d573-4dd97b9460ae"
      },
      "execution_count": null,
      "outputs": [
        {
          "output_type": "stream",
          "name": "stderr",
          "text": [
            "[Parallel(n_jobs=1)]: Using backend SequentialBackend with 1 concurrent workers.\n",
            "[Parallel(n_jobs=1)]: Done 100 out of 100 | elapsed: 16.5min finished\n"
          ]
        },
        {
          "output_type": "execute_result",
          "data": {
            "text/plain": [
              "RandomForestRegressor(max_features=0.8, random_state=31415, verbose=1)"
            ]
          },
          "metadata": {},
          "execution_count": 35
        }
      ]
    },
    {
      "cell_type": "code",
      "source": [
        "prediction = RFR_model.predict(X_val)\n",
        "diff = prediction - Y_val.values.ravel()\n",
        "loss = np.sqrt(np.mean(diff**2))\n",
        "print(f'RMSE loss {loss}')"
      ],
      "metadata": {
        "colab": {
          "base_uri": "https://localhost:8080/"
        },
        "id": "_Vl88d9aKuME",
        "outputId": "2fbc5390-0d58-4971-ff4a-6d312b5f2193"
      },
      "execution_count": null,
      "outputs": [
        {
          "output_type": "stream",
          "name": "stderr",
          "text": [
            "[Parallel(n_jobs=1)]: Using backend SequentialBackend with 1 concurrent workers.\n"
          ]
        },
        {
          "output_type": "stream",
          "name": "stdout",
          "text": [
            "RMSE loss 3.2255467722117004\n"
          ]
        },
        {
          "output_type": "stream",
          "name": "stderr",
          "text": [
            "[Parallel(n_jobs=1)]: Done 100 out of 100 | elapsed:    8.1s finished\n"
          ]
        }
      ]
    },
    {
      "cell_type": "code",
      "source": [
        "plt.figure(figsize=(10,3))\n",
        "plt.title(f'pred & truth & diff of {X_val.shape[0]} data')\n",
        "plt.plot(Y_val.values.ravel(), label='Truth')\n",
        "plt.plot(prediction,label='pred')\n",
        "plt.plot(diff,label='diff')\n",
        "plt.legend()\n",
        "plt.show()"
      ],
      "metadata": {
        "colab": {
          "base_uri": "https://localhost:8080/",
          "height": 227
        },
        "id": "mHpOa12qLNHR",
        "outputId": "c8a09e33-23f2-46d2-d27e-169892aea1a3"
      },
      "execution_count": null,
      "outputs": [
        {
          "output_type": "display_data",
          "data": {
            "text/plain": [
              "<Figure size 720x216 with 1 Axes>"
            ],
            "image/png": "[encoded data removed]"
          },
          "metadata": {
            "needs_background": "light"
          }
        }
      ]
    },
    {
      "cell_type": "code",
      "source": [
        "# save model\n",
        "joblib.dump(RFR_model, f'RFR_{fraction}') "
      ],
      "metadata": {
        "colab": {
          "base_uri": "https://localhost:8080/"
        },
        "id": "i2pFFT9tCFTo",
        "outputId": "d2e3aa3a-15f4-44c6-824c-80146d80e36b"
      },
      "execution_count": null,
      "outputs": [
        {
          "output_type": "execute_result",
          "data": {
            "text/plain": [
              "['RFR_202001']"
            ]
          },
          "metadata": {},
          "execution_count": 17
        }
      ]
    },
    {
      "cell_type": "markdown",
      "source": [
        "## Gradient Boosting Regressor"
      ],
      "metadata": {
        "id": "MZK7OGlgAfMj"
      }
    },
    {
      "cell_type": "code",
      "source": [
        "GBR_model = GradientBoostingRegressor(\n",
        "    loss='squared_error', \n",
        "    learning_rate=0.1, \n",
        "    n_estimators=200, \n",
        "    subsample=1.0, \n",
        "    criterion='friedman_mse', \n",
        "    min_samples_split=2, \n",
        "    min_samples_leaf=1, \n",
        "    min_weight_fraction_leaf=0.0, \n",
        "    max_depth=3, \n",
        "    min_impurity_decrease=0.0, \n",
        "    init=None, \n",
        "    random_state=RANDOM_STATE, \n",
        "    max_features=None, \n",
        "    alpha=0.9, # only for huber loss or quantile loss\n",
        "    verbose=1, \n",
        "    max_leaf_nodes=None, \n",
        "    warm_start=False, # resume from previous fit\n",
        "    validation_fraction=0.1, \n",
        "    n_iter_no_change=30, # n of iters with no improvement\n",
        "    tol=0.0001, \n",
        "    ccp_alpha=0.0\n",
        ")"
      ],
      "metadata": {
        "id": "kNXmt7i7AmWw"
      },
      "execution_count": null,
      "outputs": []
    },
    {
      "cell_type": "code",
      "source": [
        "GBR_model.fit(X_train,Y_train.values.ravel())"
      ],
      "metadata": {
        "colab": {
          "base_uri": "https://localhost:8080/"
        },
        "id": "0Eou92NwC3xq",
        "outputId": "330d827d-ee65-48e3-d23a-3e6d759914ab"
      },
      "execution_count": null,
      "outputs": [
        {
          "output_type": "stream",
          "name": "stdout",
          "text": [
            "      Iter       Train Loss   Remaining Time \n",
            "         1         115.6347            2.16m\n",
            "         2          99.8568            1.94m\n",
            "         3          86.8791            1.87m\n",
            "         4          76.3430            1.82m\n",
            "         5          67.6314            1.80m\n",
            "         6          60.5036            1.78m\n",
            "         7          54.4496            1.77m\n",
            "         8          49.4818            1.75m\n",
            "         9          45.4581            1.74m\n",
            "        10          42.0050            1.73m\n",
            "        20          27.4036            1.63m\n",
            "        30          23.1016            1.52m\n",
            "        40          20.8544            1.42m\n",
            "        50          19.3543            1.33m\n",
            "        60          18.4296            1.23m\n",
            "        70          17.7658            1.14m\n",
            "        80          17.2512            1.06m\n",
            "        90          16.8288           57.95s\n",
            "       100          16.4358           52.60s\n",
            "       200          14.3885            0.00s\n"
          ]
        },
        {
          "output_type": "execute_result",
          "data": {
            "text/plain": [
              "GradientBoostingRegressor(n_estimators=200, n_iter_no_change=30,\n",
              "                          random_state=31415, verbose=1)"
            ]
          },
          "metadata": {},
          "execution_count": 25
        }
      ]
    },
    {
      "cell_type": "code",
      "source": [
        "prediction = GBR_model.predict(X_val)\n",
        "diff = prediction - Y_val.values.ravel()\n",
        "loss = np.sqrt(np.mean(diff**2))\n",
        "print(f'RMSE loss {loss}')"
      ],
      "metadata": {
        "colab": {
          "base_uri": "https://localhost:8080/"
        },
        "id": "Pn4giskjDA3s",
        "outputId": "b3034b27-b918-479b-e007-69eed7f0bd47"
      },
      "execution_count": null,
      "outputs": [
        {
          "output_type": "stream",
          "name": "stdout",
          "text": [
            "RMSE loss 3.9008046385672372\n"
          ]
        }
      ]
    },
    {
      "cell_type": "code",
      "source": [
        "plt.figure(figsize=(10,3))\n",
        "plt.title(f'pred & truth & diff of {X_val.shape[0]} data')\n",
        "plt.plot(Y_val.values.ravel(), label='Truth')\n",
        "plt.plot(prediction,label='pred')\n",
        "plt.plot(diff,label='diff')\n",
        "plt.legend()\n",
        "plt.show()"
      ],
      "metadata": {
        "colab": {
          "base_uri": "https://localhost:8080/",
          "height": 227
        },
        "id": "1hC4D7RwDRDC",
        "outputId": "eb7bdb4a-a193-4912-9e36-db43e0ba0e2b"
      },
      "execution_count": null,
      "outputs": [
        {
          "output_type": "display_data",
          "data": {
            "text/plain": [
              "<Figure size 720x216 with 1 Axes>"
            ],
            "image/png": "[encoded data removed]"
          },
          "metadata": {
            "needs_background": "light"
          }
        }
      ]
    },
    {
      "cell_type": "code",
      "source": [
        "# save model\n",
        "joblib.dump(GBR_model, f'GBR_{fraction}') "
      ],
      "metadata": {
        "id": "5SNOr3ubDTuu"
      },
      "execution_count": null,
      "outputs": []
    },
    {
      "cell_type": "markdown",
      "source": [
        "## Adaboost Regressor"
      ],
      "metadata": {
        "id": "TgNneBT3Ety6"
      }
    },
    {
      "cell_type": "code",
      "source": [
        "AR_model = AdaBoostRegressor(\n",
        "    base_estimator=None,\n",
        "    n_estimators=50, \n",
        "    learning_rate=1.0, \n",
        "    loss='square', \n",
        "    random_state=RANDOM_STATE\n",
        ")"
      ],
      "metadata": {
        "id": "cw9oepjRE2In"
      },
      "execution_count": null,
      "outputs": []
    },
    {
      "cell_type": "code",
      "source": [
        "AR_model.fit(X_train,Y_train.values.ravel())"
      ],
      "metadata": {
        "colab": {
          "base_uri": "https://localhost:8080/"
        },
        "id": "Pbd5ZACyFZvt",
        "outputId": "b8bb21dc-77d8-46d7-c598-ca1ea8313cdc"
      },
      "execution_count": null,
      "outputs": [
        {
          "output_type": "execute_result",
          "data": {
            "text/plain": [
              "AdaBoostRegressor(loss='square', random_state=31415)"
            ]
          },
          "metadata": {},
          "execution_count": 29
        }
      ]
    },
    {
      "cell_type": "code",
      "source": [
        "prediction = AR_model.predict(X_val)\n",
        "diff = prediction - Y_val.values.ravel()\n",
        "loss = np.sqrt(np.mean(diff**2))\n",
        "print(f'RMSE loss {loss}')"
      ],
      "metadata": {
        "colab": {
          "base_uri": "https://localhost:8080/"
        },
        "id": "LwNJHI1gFoDZ",
        "outputId": "9cc3687f-e920-4904-d0af-4daa365c9d62"
      },
      "execution_count": null,
      "outputs": [
        {
          "output_type": "stream",
          "name": "stdout",
          "text": [
            "RMSE loss 6.375204286914479\n"
          ]
        }
      ]
    },
    {
      "cell_type": "code",
      "source": [
        "plt.figure(figsize=(10,3))\n",
        "plt.title(f'pred & truth & diff of {X_val.shape[0]} data')\n",
        "plt.plot(Y_val.values.ravel(), label='Truth')\n",
        "plt.plot(prediction,label='pred')\n",
        "plt.plot(diff,label='diff')\n",
        "plt.legend()\n",
        "plt.show()"
      ],
      "metadata": {
        "colab": {
          "base_uri": "https://localhost:8080/",
          "height": 227
        },
        "id": "4b-lNY8oFwkJ",
        "outputId": "20be6fd0-4403-4816-e16f-093258f8bbd3"
      },
      "execution_count": null,
      "outputs": [
        {
          "output_type": "display_data",
          "data": {
            "text/plain": [
              "<Figure size 720x216 with 1 Axes>"
            ],
            "image/png": "[encoded data removed]"
          },
          "metadata": {
            "needs_background": "light"
          }
        }
      ]
    },
    {
      "cell_type": "code",
      "source": [
        "# save model\n",
        "joblib.dump(GBR_model, f'AR_{fraction}') "
      ],
      "metadata": {
        "id": "VPZ0YOixF7he"
      },
      "execution_count": null,
      "outputs": []
    },
    {
      "cell_type": "markdown",
      "source": [
        "## XGBoost"
      ],
      "metadata": {
        "id": "XWkyB_X8ZIO_"
      }
    },
    {
      "cell_type": "code",
      "source": [
        "import xgboost as xgb"
      ],
      "metadata": {
        "id": "92_dNqiYZKub"
      },
      "execution_count": null,
      "outputs": []
    },
    {
      "cell_type": "markdown",
      "source": [
        "### isitu-LST learning"
      ],
      "metadata": {
        "id": "x3dbFkIwFGZv"
      }
    },
    {
      "cell_type": "code",
      "source": [
        "XGBR_model = xgb.XGBRegressor(\n",
        "    max_depth=3, \n",
        "    learning_rate=0.1, \n",
        "    n_estimators=1700, \n",
        "    verbosity=0, \n",
        "    silent=None, \n",
        "    objective=\"reg:squarederror\", \n",
        "    booster='gbtree', \n",
        "    n_jobs=1, \n",
        "    nthread=None, \n",
        "    gamma=0, \n",
        "    min_child_weight=1, \n",
        "    max_delta_step=0, \n",
        "    subsample=0.8, \n",
        "    colsample_bytree=1, \n",
        "    colsample_bylevel=1, \n",
        "    colsample_bynode=1, \n",
        "    reg_alpha=0, \n",
        "    reg_lambda=1, \n",
        "    scale_pos_weight=1, \n",
        "    base_score=0.5, \n",
        "    random_state=RANDOM_STATE, \n",
        "    missing=None, \n",
        "    importance_type=\"gain\",\n",
        "    early_stopping_rounds=30,\n",
        "    predictor='cpu_predictor'\n",
        ")"
      ],
      "metadata": {
        "id": "aK30E-aRf15x"
      },
      "execution_count": null,
      "outputs": []
    },
    {
      "cell_type": "code",
      "source": [
        "XGBR_model.fit(X_train,Y_train,eval_set=[(X_train,Y_train),(X_val,Y_val)])"
      ],
      "metadata": {
        "id": "RTI4ANonifAL"
      },
      "execution_count": null,
      "outputs": []
    },
    {
      "cell_type": "code",
      "source": [
        "results = XGBR_model.evals_result()\n",
        "print(f\"RMSE = {results['validation_1']['rmse'][-1]}\")\n",
        "plt.figure(figsize=(5,5))\n",
        "plt.title('XGBoost Regressor RMSE per iteration')\n",
        "plt.plot(results['validation_0']['rmse'], label='train')\n",
        "plt.plot(results['validation_1']['rmse'], label='val')\n",
        "plt.legend()\n",
        "plt.show()"
      ],
      "metadata": {
        "colab": {
          "base_uri": "https://localhost:8080/",
          "height": 354
        },
        "id": "0VQK2gqlUodL",
        "outputId": "84f3a0e2-43d5-42b4-eda3-7b66f5f56a5d"
      },
      "execution_count": null,
      "outputs": [
        {
          "output_type": "stream",
          "name": "stdout",
          "text": [
            "RMSE = 3.250522\n"
          ]
        },
        {
          "output_type": "display_data",
          "data": {
            "text/plain": [
              "<Figure size 360x360 with 1 Axes>"
            ],
            "image/png": "[encoded data removed]"
          },
          "metadata": {
            "needs_background": "light"
          }
        }
      ]
    },
    {
      "cell_type": "code",
      "source": [
        "print(f\"RMSE = {results['validation_1']['rmse'][-1]}\")\n",
        "plt.figure(figsize=(5,5))\n",
        "plt.title('XGBoost Regressor RMSE per iteration (starting from 70)')\n",
        "plt.plot(results['validation_0']['rmse'][70:], label='train')\n",
        "plt.plot(results['validation_1']['rmse'][70:], label='val')\n",
        "plt.legend()\n",
        "plt.show()"
      ],
      "metadata": {
        "colab": {
          "base_uri": "https://localhost:8080/",
          "height": 354
        },
        "id": "8FunIE2SDGfa",
        "outputId": "04f78f26-122e-4569-fb43-5214fe554248"
      },
      "execution_count": null,
      "outputs": [
        {
          "output_type": "stream",
          "name": "stdout",
          "text": [
            "RMSE = 3.250522\n"
          ]
        },
        {
          "output_type": "display_data",
          "data": {
            "text/plain": [
              "<Figure size 360x360 with 1 Axes>"
            ],
            "image/png": "[encoded data removed]"
          },
          "metadata": {
            "needs_background": "light"
          }
        }
      ]
    },
    {
      "cell_type": "code",
      "source": [
        "prediction = XGBR_model.predict(X_val)\n",
        "diff = prediction - Y_val.values.ravel()\n",
        "loss = np.sqrt(np.mean(diff**2))\n",
        "print(f'RMSE loss {loss}')"
      ],
      "metadata": {
        "colab": {
          "base_uri": "https://localhost:8080/"
        },
        "id": "oZte3K6ejWlK",
        "outputId": "2e3b7cf9-49fb-46b1-e6c4-a78cbff3d0b0"
      },
      "execution_count": null,
      "outputs": [
        {
          "output_type": "stream",
          "name": "stdout",
          "text": [
            "RMSE loss 3.251054522610311\n"
          ]
        }
      ]
    },
    {
      "cell_type": "code",
      "source": [
        "plt.figure(figsize=(10,3))\n",
        "plt.title(f'pred & truth & diff of {X_val.shape[0]} data')\n",
        "plt.plot(Y_val.values.ravel(), label='Truth')\n",
        "plt.plot(prediction,label='pred')\n",
        "plt.plot(diff,label='diff')\n",
        "plt.legend()\n",
        "plt.show()"
      ],
      "metadata": {
        "colab": {
          "base_uri": "https://localhost:8080/",
          "height": 264
        },
        "id": "VyoTw5EjjaPK",
        "outputId": "ebdd3de4-4c7f-4304-82a1-1f344c623062"
      },
      "execution_count": null,
      "outputs": [
        {
          "output_type": "stream",
          "name": "stderr",
          "text": [
            "/usr/local/lib/python3.7/dist-packages/IPython/core/pylabtools.py:125: UserWarning: Creating legend with loc=\"best\" can be slow with large amounts of data.\n",
            "  fig.canvas.print_figure(bytes_io, **kw)\n"
          ]
        },
        {
          "output_type": "display_data",
          "data": {
            "text/plain": [
              "<Figure size 720x216 with 1 Axes>"
            ],
            "image/png": "[encoded data removed]"
          },
          "metadata": {
            "needs_background": "light"
          }
        }
      ]
    },
    {
      "cell_type": "markdown",
      "source": [
        "### insitu-TA learning"
      ],
      "metadata": {
        "id": "xCa5bpcOFWmI"
      }
    },
    {
      "cell_type": "code",
      "source": [
        "XGBR_model = xgb.XGBRegressor(\n",
        "    max_depth=3, \n",
        "    learning_rate=0.1, \n",
        "    n_estimators=1000, \n",
        "    verbosity=0, \n",
        "    silent=None, \n",
        "    objective=\"reg:squarederror\", \n",
        "    booster='gbtree', \n",
        "    subsample=0.8, \n",
        "    random_state=RANDOM_STATE, \n",
        "    early_stopping_rounds=30,\n",
        "    predictor='cpu_predictor'\n",
        ")"
      ],
      "metadata": {
        "id": "DtNnhu0tFbfY"
      },
      "execution_count": null,
      "outputs": []
    },
    {
      "cell_type": "code",
      "source": [
        "XGBR_model.fit(X_train,Y_train_TA,eval_set=[(X_train,Y_train_TA),(X_val,Y_val_TA)])"
      ],
      "metadata": {
        "id": "y46neoIJFoxf"
      },
      "execution_count": null,
      "outputs": []
    },
    {
      "cell_type": "code",
      "source": [
        "results = XGBR_model.evals_result()\n",
        "cut_front = 10\n",
        "print(f\"RMSE = {results['validation_1']['rmse'][-1]}\")\n",
        "plt.figure(figsize=(5,5))\n",
        "plt.title(f'XGBoost Regressor RMSE per iteration (starting from {cut_front})')\n",
        "plt.plot(results['validation_0']['rmse'][cut_front:], label='train')\n",
        "plt.plot(results['validation_1']['rmse'][cut_front:], label='val')\n",
        "plt.legend()\n",
        "plt.show()"
      ],
      "metadata": {
        "colab": {
          "base_uri": "https://localhost:8080/",
          "height": 354
        },
        "id": "KjbScR0ZFzXO",
        "outputId": "2062d87c-a1f7-4847-8e10-bb32c033c98b"
      },
      "execution_count": null,
      "outputs": [
        {
          "output_type": "stream",
          "name": "stdout",
          "text": [
            "RMSE = 20.981844\n"
          ]
        },
        {
          "output_type": "display_data",
          "data": {
            "text/plain": [
              "<Figure size 360x360 with 1 Axes>"
            ],
            "image/png": "[encoded data removed]"
          },
          "metadata": {
            "needs_background": "light"
          }
        }
      ]
    },
    {
      "cell_type": "code",
      "source": [
        "prediction = XGBR_model.predict(X_val)\n",
        "diff = prediction - Y_val_TA.values.ravel()\n",
        "loss = np.sqrt(np.mean(diff**2))\n",
        "print(f'RMSE loss {loss}')"
      ],
      "metadata": {
        "colab": {
          "base_uri": "https://localhost:8080/"
        },
        "id": "dRD81jS9F2l2",
        "outputId": "edd94939-c9af-47c1-a052-db2b116d9fff"
      },
      "execution_count": null,
      "outputs": [
        {
          "output_type": "stream",
          "name": "stdout",
          "text": [
            "RMSE loss 20.9875680563548\n"
          ]
        }
      ]
    },
    {
      "cell_type": "markdown",
      "source": [
        "# useless attempts"
      ],
      "metadata": {
        "id": "lCc8gqBYFaP1"
      }
    },
    {
      "cell_type": "markdown",
      "source": [
        "## attempt 1"
      ],
      "metadata": {
        "id": "_3iGkMJ2lXEU"
      }
    },
    {
      "cell_type": "code",
      "source": [
        "# plot train score and validation score at each given n_estimators\n",
        "# score = rmse\n",
        "train_loss = []\n",
        "test_loss = []\n",
        "for n_estimators in [100,500,1000,2000]:\n",
        "  XGBR_model.n_estimators = n_estimators\n",
        "  XGBR_model.fit(X_train,Y_train)\n",
        "  # get train loss\n",
        "  predt = XGBR_model.predict(X_train)\n",
        "  diff = predt - Y_train.values.ravel()\n",
        "  train_loss.append(np.sqrt(np.mean(diff**2)))\n",
        "  print(f'\\rn_estimators {n_estimators} train loss {train_loss[-1]}', end='\\t')\n",
        "  # get test loss\n",
        "  predt = XGBR_model.predict(X_val)\n",
        "  diff = predt - Y_val.values.ravel()\n",
        "  test_loss.append(np.sqrt(np.mean(diff**2)))\n",
        "  print(f'test loss {test_loss[-1]}',end='\\t\\t\\t')\n",
        "\n",
        "\n",
        "plt.figure(figsize=(5,5))\n",
        "plt.title('loss per n_estimators in XGBR')\n",
        "plt.plot(train_loss,label='train rmse')\n",
        "plt.plot(test_loss,label='test rmse')\n",
        "plt.legend()\n",
        "plt.show()"
      ],
      "metadata": {
        "id": "bdwiQvw_7Vr6"
      },
      "execution_count": null,
      "outputs": []
    },
    {
      "cell_type": "code",
      "source": [
        "XGBR_model.save_model('XGBR0627.txt')"
      ],
      "metadata": {
        "id": "VBmBobWRErPx"
      },
      "execution_count": null,
      "outputs": []
    },
    {
      "cell_type": "code",
      "source": [
        "mm = xgb.XGBRegressor()\n",
        "mm.load_model('XGBR0627.txt')\n",
        "pred2 = mm.predict(X_val)\n",
        "print(np.sum(pred2-prediction))"
      ],
      "metadata": {
        "colab": {
          "base_uri": "https://localhost:8080/"
        },
        "id": "7L0N7BNZEXSh",
        "outputId": "b9e756fc-cddf-4ab2-bb36-23de09db2e8b"
      },
      "execution_count": null,
      "outputs": [
        {
          "output_type": "stream",
          "name": "stdout",
          "text": [
            "0.0\n"
          ]
        }
      ]
    },
    {
      "cell_type": "code",
      "source": [
        "import LearningCurvePlotter\n",
        "from LearningCurvePlotter import plot_learning_curve\n",
        "\n",
        "plt = plot_learning_curve(\n",
        "    XGBR_model,\n",
        "    'XGBoost Regressor model',\n",
        "    X_train,\n",
        "    Y_train,\n",
        "    cv=3\n",
        ")\n",
        "plt.show()"
      ],
      "metadata": {
        "colab": {
          "base_uri": "https://localhost:8080/",
          "height": 351
        },
        "id": "pt3Y8YoDx62g",
        "outputId": "ca0399c5-3544-4879-ba9e-53268eaf9f16"
      },
      "execution_count": null,
      "outputs": [
        {
          "output_type": "display_data",
          "data": {
            "text/plain": [
              "<Figure size 1440x360 with 3 Axes>"
            ],
            "image/png": "[encoded data removed]"
          },
          "metadata": {
            "needs_background": "light"
          }
        }
      ]
    },
    {
      "cell_type": "markdown",
      "source": [
        "## attempt 2 (python xgboost (not sklearn api))"
      ],
      "metadata": {
        "id": "IXtNdFJylhDO"
      }
    },
    {
      "cell_type": "code",
      "source": [
        "# import xgb\n",
        "import xgboost as xgb"
      ],
      "metadata": {
        "id": "yWZQPDIAlkqD"
      },
      "execution_count": 10,
      "outputs": []
    },
    {
      "cell_type": "markdown",
      "source": [
        "### Predicting LST"
      ],
      "metadata": {
        "id": "c1-S-KpxIH8Z"
      }
    },
    {
      "cell_type": "code",
      "source": [
        "# setting params for LST prediction\n",
        "# https://xgboost.readthedocs.io/en/stable/parameter.html\n",
        "param_LST = {\n",
        "    'max_depth': 3, \n",
        "    'eta': 0.1, \n",
        "    'subsample': 0.5, \n",
        "    'predictor':'cpu_predictor', \n",
        "    'objective': 'reg:squarederror',\n",
        "    'eval_metric': 'rmse',\n",
        "    'seed':RANDOM_STATE \n",
        "} \n",
        "dtrain_LST = xgb.DMatrix(X_train,label=Y_train_LST)\n",
        "dval_LST = xgb.DMatrix(X_val,label=Y_val_LST)\n",
        "evallist_LST = [(dtrain_LST,'train'),(dval_LST,'eval')]"
      ],
      "metadata": {
        "id": "8ozQlQ4Apszn"
      },
      "execution_count": 11,
      "outputs": []
    },
    {
      "cell_type": "code",
      "source": [
        "# evals result\n",
        "evals_LST = {}\n",
        "# train LST\n",
        "model_LST = xgb.train(\n",
        "    param_LST,\n",
        "    dtrain_LST,\n",
        "    num_boost_round=200,\n",
        "    evals=evallist_LST,\n",
        "    early_stopping_rounds=10,\n",
        "    verbose_eval=20,\n",
        "    evals_result = evals_LST\n",
        ")"
      ],
      "metadata": {
        "colab": {
          "base_uri": "https://localhost:8080/"
        },
        "id": "1UoccvaIptR4",
        "outputId": "8475ae1f-c4f8-4c62-97c8-48adbab2fad6"
      },
      "execution_count": 12,
      "outputs": [
        {
          "output_type": "stream",
          "name": "stdout",
          "text": [
            "[0]\ttrain-rmse:17.0016\teval-rmse:16.965\n",
            "Multiple eval metrics have been passed: 'eval-rmse' will be used for early stopping.\n",
            "\n",
            "Will train until eval-rmse hasn't improved in 10 rounds.\n",
            "[20]\ttrain-rmse:3.79946\teval-rmse:3.77989\n",
            "[40]\ttrain-rmse:2.86205\teval-rmse:2.85338\n",
            "[60]\ttrain-rmse:2.69153\teval-rmse:2.68381\n",
            "[80]\ttrain-rmse:2.6017\teval-rmse:2.5941\n",
            "[100]\ttrain-rmse:2.53416\teval-rmse:2.52698\n",
            "[120]\ttrain-rmse:2.48536\teval-rmse:2.47837\n",
            "[140]\ttrain-rmse:2.43972\teval-rmse:2.43285\n",
            "[160]\ttrain-rmse:2.40718\teval-rmse:2.40078\n",
            "[180]\ttrain-rmse:2.37235\teval-rmse:2.3667\n",
            "[199]\ttrain-rmse:2.34509\teval-rmse:2.33945\n"
          ]
        }
      ]
    },
    {
      "cell_type": "code",
      "source": [
        "results = evals_LST\n",
        "print(f\"eval-RMSE = {results['eval']['rmse'][-1]}\")\n",
        "\n",
        "plt.figure(figsize=(5,5))\n",
        "plt.title('XGBoost learning graph')\n",
        "plt.ylabel('isitu_LST')\n",
        "plt.xlabel('iteration')\n",
        "plt.plot(results['train']['rmse'], label='train')\n",
        "plt.plot(results['eval']['rmse'], label='val')\n",
        "plt.legend()\n",
        "plt.show()"
      ],
      "metadata": {
        "id": "g_ITWOOUNzWN",
        "colab": {
          "base_uri": "https://localhost:8080/",
          "height": 368
        },
        "outputId": "27df4d6e-4d0d-4ffc-be96-76aeecb66f9c"
      },
      "execution_count": 13,
      "outputs": [
        {
          "output_type": "stream",
          "name": "stdout",
          "text": [
            "eval-RMSE = 2.339451\n"
          ]
        },
        {
          "output_type": "display_data",
          "data": {
            "text/plain": [
              "<Figure size 360x360 with 1 Axes>"
            ],
            "image/png": "[encoded data removed]"
          },
          "metadata": {
            "needs_background": "light"
          }
        }
      ]
    },
    {
      "cell_type": "code",
      "source": [
        "model_LST.save_model('XGB_LST_0720')"
      ],
      "metadata": {
        "id": "09UuS6_cOOWe"
      },
      "execution_count": 14,
      "outputs": []
    },
    {
      "cell_type": "code",
      "source": [
        "df_fs = pd.DataFrame.from_dict(model_LST.get_fscore(),orient='index')\n",
        "df_fs = df_fs.sort_values(0,ascending=True)\n",
        "\n",
        "y = np.arange(len(df_fs))\n",
        "labels = df_fs.index\n",
        "values = df_fs.iloc[:,0]\n",
        "\n",
        "plt.figure(figsize=(5,10))\n",
        "plt.title('Feature importance for isitu-LST')\n",
        "plt.barh(y, values)\n",
        "plt.yticks(y, labels)\n",
        "plt.show()"
      ],
      "metadata": {
        "colab": {
          "base_uri": "https://localhost:8080/",
          "height": 607
        },
        "id": "QTQwMaSZsn9x",
        "outputId": "f01b3f8f-4856-4fb5-e94c-2c97d2a3e769"
      },
      "execution_count": 15,
      "outputs": [
        {
          "output_type": "display_data",
          "data": {
            "text/plain": [
              "<Figure size 360x720 with 1 Axes>"
            ],
            "image/png": "[encoded data removed]"
          },
          "metadata": {
            "needs_background": "light"
          }
        }
      ]
    },
    {
      "cell_type": "markdown",
      "source": [
        "### Predicting TA"
      ],
      "metadata": {
        "id": "spl4sMfqIMc2"
      }
    },
    {
      "cell_type": "code",
      "source": [
        "# setting params for LST prediction\n",
        "# https://xgboost.readthedocs.io/en/stable/parameter.html\n",
        "param_TA = {\n",
        "    'max_depth': 2, \n",
        "    'eta': 0.1, \n",
        "    'subsample': 0.5, \n",
        "    'predictor':'cpu_predictor', \n",
        "    'objective': 'reg:squarederror',\n",
        "    'eval_metric': 'rmse',\n",
        "    'seed':RANDOM_STATE \n",
        "} \n",
        "\n",
        "dtrain_TA = xgb.DMatrix(X_train,label=Y_train_TA)\n",
        "dval_TA = xgb.DMatrix(X_val,label=Y_val_TA)\n",
        "evallist_TA = [(dtrain_TA,'train'),(dval_TA,'eval')]"
      ],
      "metadata": {
        "id": "dp8_FEg6H8uk"
      },
      "execution_count": 16,
      "outputs": []
    },
    {
      "cell_type": "code",
      "source": [
        "# evals result\n",
        "evals_TA = {}\n",
        "# train TA\n",
        "model_TA = xgb.train(\n",
        "    param_TA,\n",
        "    dtrain_TA,\n",
        "    num_boost_round=300,\n",
        "    evals=evallist_TA,\n",
        "    early_stopping_rounds=10,\n",
        "    verbose_eval=20,\n",
        "    evals_result = evals_TA\n",
        ")"
      ],
      "metadata": {
        "id": "y7a4wYKoqKnC",
        "colab": {
          "base_uri": "https://localhost:8080/"
        },
        "outputId": "77ba0678-6cdd-4822-daca-9397a3a656f1"
      },
      "execution_count": 17,
      "outputs": [
        {
          "output_type": "stream",
          "name": "stdout",
          "text": [
            "[0]\ttrain-rmse:25.4536\teval-rmse:24.829\n",
            "Multiple eval metrics have been passed: 'eval-rmse' will be used for early stopping.\n",
            "\n",
            "Will train until eval-rmse hasn't improved in 10 rounds.\n",
            "[20]\ttrain-rmse:8.44093\teval-rmse:8.06128\n",
            "[40]\ttrain-rmse:6.94593\teval-rmse:6.61425\n",
            "[60]\ttrain-rmse:6.35767\teval-rmse:6.06306\n",
            "[80]\ttrain-rmse:5.98843\teval-rmse:5.70436\n",
            "[100]\ttrain-rmse:5.58288\teval-rmse:5.3757\n",
            "[120]\ttrain-rmse:5.29348\teval-rmse:5.1492\n",
            "[140]\ttrain-rmse:4.88376\teval-rmse:4.81434\n",
            "[160]\ttrain-rmse:4.58231\teval-rmse:4.57395\n",
            "[180]\ttrain-rmse:4.33862\teval-rmse:4.37338\n",
            "[200]\ttrain-rmse:4.10786\teval-rmse:4.2459\n",
            "[220]\ttrain-rmse:3.90252\teval-rmse:4.09366\n",
            "[240]\ttrain-rmse:3.71266\teval-rmse:4.00794\n",
            "[260]\ttrain-rmse:3.55962\teval-rmse:3.9182\n",
            "[280]\ttrain-rmse:3.43661\teval-rmse:3.83827\n",
            "[299]\ttrain-rmse:3.27825\teval-rmse:3.73737\n"
          ]
        }
      ]
    },
    {
      "cell_type": "code",
      "source": [
        "results = evals_TA\n",
        "print(f\"eval-RMSE = {results['eval']['rmse'][-1]}\")\n",
        "\n",
        "plt.figure(figsize=(5,5))\n",
        "plt.title('XGBoost learning graph')\n",
        "plt.ylabel('insitu_TA')\n",
        "plt.xlabel('iteration')\n",
        "plt.plot(results['train']['rmse'], label='train')\n",
        "plt.plot(results['eval']['rmse'], label='val')\n",
        "plt.legend()\n",
        "plt.show()"
      ],
      "metadata": {
        "colab": {
          "base_uri": "https://localhost:8080/",
          "height": 368
        },
        "id": "nkLfPH8sR_gv",
        "outputId": "7d5ed47b-077a-438e-bc72-09f63dfa985a"
      },
      "execution_count": 18,
      "outputs": [
        {
          "output_type": "stream",
          "name": "stdout",
          "text": [
            "eval-RMSE = 3.737372\n"
          ]
        },
        {
          "output_type": "display_data",
          "data": {
            "text/plain": [
              "<Figure size 360x360 with 1 Axes>"
            ],
            "image/png": "[encoded data removed]"
          },
          "metadata": {
            "needs_background": "light"
          }
        }
      ]
    },
    {
      "cell_type": "code",
      "source": [
        "model_TA.save_model('XGB_TA_0720')"
      ],
      "metadata": {
        "id": "C5X0o1NDSrk4"
      },
      "execution_count": 19,
      "outputs": []
    },
    {
      "cell_type": "code",
      "source": [
        "df_fs = pd.DataFrame.from_dict(model_TA.get_fscore(),orient='index')\n",
        "df_fs = df_fs.sort_values(0,ascending=True)\n",
        "\n",
        "y = np.arange(len(df_fs))\n",
        "labels = df_fs.index\n",
        "values = df_fs.iloc[:,0]\n",
        "\n",
        "plt.figure(figsize=(5,10))\n",
        "plt.title('Feature importance for insitu-TA')\n",
        "plt.barh(y, values)\n",
        "plt.yticks(y, labels)\n",
        "plt.show()"
      ],
      "metadata": {
        "colab": {
          "base_uri": "https://localhost:8080/",
          "height": 607
        },
        "id": "irFaM3nYJB7C",
        "outputId": "676a029c-508c-4bd3-893c-e227259fc6bc"
      },
      "execution_count": 20,
      "outputs": [
        {
          "output_type": "display_data",
          "data": {
            "text/plain": [
              "<Figure size 360x720 with 1 Axes>"
            ],
            "image/png": "[encoded data removed]"
          },
          "metadata": {
            "needs_background": "light"
          }
        }
      ]
    },
    {
      "cell_type": "markdown",
      "source": [
        "# submission"
      ],
      "metadata": {
        "id": "IXmEcSQrFdUf"
      }
    },
    {
      "cell_type": "code",
      "source": [
        "!gdown 1xgucvJDFvw1MTY1xPg3K00mBKPJbjGlF -O TestFeatures.csv"
      ],
      "metadata": {
        "colab": {
          "base_uri": "https://localhost:8080/"
        },
        "id": "DNGZBRkQFiJC",
        "outputId": "69a59f75-fcd1-4939-c60f-3177d3ec0b9a"
      },
      "execution_count": 21,
      "outputs": [
        {
          "output_type": "stream",
          "name": "stdout",
          "text": [
            "Downloading...\n",
            "From: https://drive.google.com/uc?id=1xgucvJDFvw1MTY1xPg3K00mBKPJbjGlF\n",
            "To: /content/TestFeatures.csv\n",
            "100% 17.7M/17.7M [00:00<00:00, 18.2MB/s]\n"
          ]
        }
      ]
    },
    {
      "cell_type": "code",
      "source": [
        "!wget https://bd.kma.go.kr/contest/resources/1-2_%EA%B2%80%EC%A6%9D%EB%8D%B0%EC%9D%B4%ED%84%B0%EC%85%8B.csv \n",
        "!mv 1-2_*.csv submissionFormat.csv"
      ],
      "metadata": {
        "colab": {
          "base_uri": "https://localhost:8080/"
        },
        "id": "V61KVz7FKe55",
        "outputId": "feec09b0-610e-4b43-f389-074fea3e6e72"
      },
      "execution_count": null,
      "outputs": [
        {
          "output_type": "stream",
          "name": "stdout",
          "text": [
            "--2022-07-10 11:23:31--  https://bd.kma.go.kr/contest/resources/1-2_%EA%B2%80%EC%A6%9D%EB%8D%B0%EC%9D%B4%ED%84%B0%EC%85%8B.csv\n",
            "Resolving bd.kma.go.kr (bd.kma.go.kr)... 203.247.90.20\n",
            "Connecting to bd.kma.go.kr (bd.kma.go.kr)|203.247.90.20|:443... connected.\n",
            "HTTP request sent, awaiting response... 503 Service Unavailable\n",
            "2022-07-10 11:23:58 ERROR 503: Service Unavailable.\n",
            "\n",
            "mv: cannot stat '1-2_*.csv': No such file or directory\n"
          ]
        }
      ]
    },
    {
      "cell_type": "code",
      "source": [
        "submissionFormat = pd.read_csv('submissionFormat.csv',usecols=[\"YearMonthDayHourMinute\",\"STN\"])\n",
        "submissionFormat.shape"
      ],
      "metadata": {
        "colab": {
          "base_uri": "https://localhost:8080/"
        },
        "id": "OX6gikGYMcG-",
        "outputId": "1af8c41b-d627-460f-eb4b-83fe47d5bb63"
      },
      "execution_count": 35,
      "outputs": [
        {
          "output_type": "execute_result",
          "data": {
            "text/plain": [
              "(54503, 2)"
            ]
          },
          "metadata": {},
          "execution_count": 35
        }
      ]
    },
    {
      "cell_type": "code",
      "source": [
        "X_test = pd.read_csv('TestFeatures.csv',usecols=timecol+featureInUse)\n",
        "X_test_unique = X_test.loc[:,[\"YearMonthDayHourMinute\",\"STN\"]]\n",
        "# Split YMDH to 4 different columns\n",
        "YMDH = pd.to_datetime(X_test[\"YearMonthDayHourMinute\"])\n",
        "X_test.insert(0,'Hour',YMDH.dt.hour)\n",
        "X_test.insert(0,'Day',YMDH.dt.day)\n",
        "X_test.insert(0,'Month',YMDH.dt.month)\n",
        "X_test.insert(0,'Year',YMDH.dt.year)\n",
        "X_test.drop(columns=timecol[0], inplace=True)\n",
        "print(X_test.shape)\n",
        "# To DMatrix\n",
        "dX_test = xgb.DMatrix(X_test)"
      ],
      "metadata": {
        "id": "sKmA7HBXF1sX",
        "colab": {
          "base_uri": "https://localhost:8080/"
        },
        "outputId": "89859298-c6b2-4dc8-8b19-4dfc9558f0cd"
      },
      "execution_count": 28,
      "outputs": [
        {
          "output_type": "stream",
          "name": "stdout",
          "text": [
            "(54503, 44)\n"
          ]
        }
      ]
    },
    {
      "cell_type": "code",
      "source": [
        "mm = xgb.Booster(params=param_LST, model_file='XGB_LST_0720')\n",
        "pred = mm.predict(dX_test)\n",
        "X_test_unique['isitu-LST'] = pred.reshape((-1,1))\n",
        "print(X_test_unique.shape)"
      ],
      "metadata": {
        "colab": {
          "base_uri": "https://localhost:8080/"
        },
        "id": "GqBzYJEuhWY6",
        "outputId": "f76834bd-a18b-4c81-af1b-a751c83ddfde"
      },
      "execution_count": 29,
      "outputs": [
        {
          "output_type": "stream",
          "name": "stdout",
          "text": [
            "(54503, 3)\n"
          ]
        }
      ]
    },
    {
      "cell_type": "code",
      "source": [
        "# mm = xgb.XGBRegressor()\n",
        "# mm.load_model('XGBR0627.txt')\n",
        "# pred = mm.predict(X_test)\n",
        "# X_test_unique['isitu-LST'] = pred.reshape(-1,1)\n",
        "# print(X_test_unique.shape)"
      ],
      "metadata": {
        "id": "-I4C4XCIKDM3"
      },
      "execution_count": 30,
      "outputs": []
    },
    {
      "cell_type": "code",
      "source": [
        "mm2 = xgb.Booster(params=param_TA, model_file='XGB_TA_0720')\n",
        "pred = mm2.predict(dX_test)\n",
        "X_test_unique['insitu-TA'] = pred.reshape((-1,1))\n",
        "print(X_test_unique.shape)"
      ],
      "metadata": {
        "colab": {
          "base_uri": "https://localhost:8080/"
        },
        "id": "rR4_fLi9ilS5",
        "outputId": "a5b9e64f-b681-4418-cbe5-724f538485e8"
      },
      "execution_count": 31,
      "outputs": [
        {
          "output_type": "stream",
          "name": "stdout",
          "text": [
            "(54503, 4)\n"
          ]
        }
      ]
    },
    {
      "cell_type": "code",
      "source": [
        "# mm2 = XGBR_model\n",
        "# pred = mm2.predict(X_test)\n",
        "# X_test_unique['insitu_TA'] = pred.reshape((-1,1))\n",
        "# print(X_test_unique.shape)"
      ],
      "metadata": {
        "colab": {
          "base_uri": "https://localhost:8080/"
        },
        "id": "8PNzYvDUWUtJ",
        "outputId": "be8e0950-ade2-4137-bc10-e2b3bb546c5c"
      },
      "execution_count": null,
      "outputs": [
        {
          "output_type": "stream",
          "name": "stdout",
          "text": [
            "(54503, 4)\n"
          ]
        }
      ]
    },
    {
      "cell_type": "code",
      "source": [
        "submissionFormat = submissionFormat.merge(X_test_unique,on=[\"YearMonthDayHourMinute\",\"STN\"])\n",
        "submissionFormat"
      ],
      "metadata": {
        "colab": {
          "base_uri": "https://localhost:8080/",
          "height": 424
        },
        "id": "YLHtdJkcVYc_",
        "outputId": "8d634945-f6f5-430a-a68a-643c938114c0"
      },
      "execution_count": 36,
      "outputs": [
        {
          "output_type": "execute_result",
          "data": {
            "text/plain": [
              "       YearMonthDayHourMinute  STN  isitu-LST  insitu-TA\n",
              "0                202107010030   90  21.655268  20.984735\n",
              "1                202107010030   93  20.981083  19.961901\n",
              "2                202107010030   95  19.574638  18.517242\n",
              "3                202107010030   98  20.268087  19.669956\n",
              "4                202107010030   99  20.786110  19.669956\n",
              "...                       ...  ...        ...        ...\n",
              "54498            202108312330  973  25.130190  24.713223\n",
              "54499            202108312330  974  23.317015  23.843302\n",
              "54500            202108312330  977  22.963396  21.647400\n",
              "54501            202108312330  978  18.909449  17.927742\n",
              "54502            202108312330  980  26.801590  24.892021\n",
              "\n",
              "[54503 rows x 4 columns]"
            ],
            "text/html": [
              "\n",
              "  <div id=\"df-4c700ccd-4247-4674-a2e4-c11b4564e174\">\n",
              "    <div class=\"colab-df-container\">\n",
              "      <div>\n",
              "<style scoped>\n",
              "    .dataframe tbody tr th:only-of-type {\n",
              "        vertical-align: middle;\n",
              "    }\n",
              "\n",
              "    .dataframe tbody tr th {\n",
              "        vertical-align: top;\n",
              "    }\n",
              "\n",
              "    .dataframe thead th {\n",
              "        text-align: right;\n",
              "    }\n",
              "</style>\n",
              "<table border=\"1\" class=\"dataframe\">\n",
              "  <thead>\n",
              "    <tr style=\"text-align: right;\">\n",
              "      <th></th>\n",
              "      <th>YearMonthDayHourMinute</th>\n",
              "      <th>STN</th>\n",
              "      <th>isitu-LST</th>\n",
              "      <th>insitu-TA</th>\n",
              "    </tr>\n",
              "  </thead>\n",
              "  <tbody>\n",
              "    <tr>\n",
              "      <th>0</th>\n",
              "      <td>202107010030</td>\n",
              "      <td>90</td>\n",
              "      <td>21.655268</td>\n",
              "      <td>20.984735</td>\n",
              "    </tr>\n",
              "    <tr>\n",
              "      <th>1</th>\n",
              "      <td>202107010030</td>\n",
              "      <td>93</td>\n",
              "      <td>20.981083</td>\n",
              "      <td>19.961901</td>\n",
              "    </tr>\n",
              "    <tr>\n",
              "      <th>2</th>\n",
              "      <td>202107010030</td>\n",
              "      <td>95</td>\n",
              "      <td>19.574638</td>\n",
              "      <td>18.517242</td>\n",
              "    </tr>\n",
              "    <tr>\n",
              "      <th>3</th>\n",
              "      <td>202107010030</td>\n",
              "      <td>98</td>\n",
              "      <td>20.268087</td>\n",
              "      <td>19.669956</td>\n",
              "    </tr>\n",
              "    <tr>\n",
              "      <th>4</th>\n",
              "      <td>202107010030</td>\n",
              "      <td>99</td>\n",
              "      <td>20.786110</td>\n",
              "      <td>19.669956</td>\n",
              "    </tr>\n",
              "    <tr>\n",
              "      <th>...</th>\n",
              "      <td>...</td>\n",
              "      <td>...</td>\n",
              "      <td>...</td>\n",
              "      <td>...</td>\n",
              "    </tr>\n",
              "    <tr>\n",
              "      <th>54498</th>\n",
              "      <td>202108312330</td>\n",
              "      <td>973</td>\n",
              "      <td>25.130190</td>\n",
              "      <td>24.713223</td>\n",
              "    </tr>\n",
              "    <tr>\n",
              "      <th>54499</th>\n",
              "      <td>202108312330</td>\n",
              "      <td>974</td>\n",
              "      <td>23.317015</td>\n",
              "      <td>23.843302</td>\n",
              "    </tr>\n",
              "    <tr>\n",
              "      <th>54500</th>\n",
              "      <td>202108312330</td>\n",
              "      <td>977</td>\n",
              "      <td>22.963396</td>\n",
              "      <td>21.647400</td>\n",
              "    </tr>\n",
              "    <tr>\n",
              "      <th>54501</th>\n",
              "      <td>202108312330</td>\n",
              "      <td>978</td>\n",
              "      <td>18.909449</td>\n",
              "      <td>17.927742</td>\n",
              "    </tr>\n",
              "    <tr>\n",
              "      <th>54502</th>\n",
              "      <td>202108312330</td>\n",
              "      <td>980</td>\n",
              "      <td>26.801590</td>\n",
              "      <td>24.892021</td>\n",
              "    </tr>\n",
              "  </tbody>\n",
              "</table>\n",
              "<p>54503 rows × 4 columns</p>\n",
              "</div>\n",
              "      <button class=\"colab-df-convert\" onclick=\"convertToInteractive('df-4c700ccd-4247-4674-a2e4-c11b4564e174')\"\n",
              "              title=\"Convert this dataframe to an interactive table.\"\n",
              "              style=\"display:none;\">\n",
              "        \n",
              "  <svg xmlns=\"http://www.w3.org/2000/svg\" height=\"24px\"viewBox=\"0 0 24 24\"\n",
              "       width=\"24px\">\n",
              "    <path d=\"M0 0h24v24H0V0z\" fill=\"none\"/>\n",
              "    <path d=\"M18.56 5.44l.94 2.06.94-2.06 2.06-.94-2.06-.94-.94-2.06-.94 2.06-2.06.94zm-11 1L8.5 8.5l.94-2.06 2.06-.94-2.06-.94L8.5 2.5l-.94 2.06-2.06.94zm10 10l.94 2.06.94-2.06 2.06-.94-2.06-.94-.94-2.06-.94 2.06-2.06.94z\"/><path d=\"M17.41 7.96l-1.37-1.37c-.4-.4-.92-.59-1.43-.59-.52 0-1.04.2-1.43.59L10.3 9.45l-7.72 7.72c-.78.78-.78 2.05 0 2.83L4 21.41c.39.39.9.59 1.41.59.51 0 1.02-.2 1.41-.59l7.78-7.78 2.81-2.81c.8-.78.8-2.07 0-2.86zM5.41 20L4 18.59l7.72-7.72 1.47 1.35L5.41 20z\"/>\n",
              "  </svg>\n",
              "      </button>\n",
              "      \n",
              "  <style>\n",
              "    .colab-df-container {\n",
              "      display:flex;\n",
              "      flex-wrap:wrap;\n",
              "      gap: 12px;\n",
              "    }\n",
              "\n",
              "    .colab-df-convert {\n",
              "      background-color: #E8F0FE;\n",
              "      border: none;\n",
              "      border-radius: 50%;\n",
              "      cursor: pointer;\n",
              "      display: none;\n",
              "      fill: #1967D2;\n",
              "      height: 32px;\n",
              "      padding: 0 0 0 0;\n",
              "      width: 32px;\n",
              "    }\n",
              "\n",
              "    .colab-df-convert:hover {\n",
              "      background-color: #E2EBFA;\n",
              "      box-shadow: 0px 1px 2px rgba(60, 64, 67, 0.3), 0px 1px 3px 1px rgba(60, 64, 67, 0.15);\n",
              "      fill: #174EA6;\n",
              "    }\n",
              "\n",
              "    [theme=dark] .colab-df-convert {\n",
              "      background-color: #3B4455;\n",
              "      fill: #D2E3FC;\n",
              "    }\n",
              "\n",
              "    [theme=dark] .colab-df-convert:hover {\n",
              "      background-color: #434B5C;\n",
              "      box-shadow: 0px 1px 3px 1px rgba(0, 0, 0, 0.15);\n",
              "      filter: drop-shadow(0px 1px 2px rgba(0, 0, 0, 0.3));\n",
              "      fill: #FFFFFF;\n",
              "    }\n",
              "  </style>\n",
              "\n",
              "      <script>\n",
              "        const buttonEl =\n",
              "          document.querySelector('#df-4c700ccd-4247-4674-a2e4-c11b4564e174 button.colab-df-convert');\n",
              "        buttonEl.style.display =\n",
              "          google.colab.kernel.accessAllowed ? 'block' : 'none';\n",
              "\n",
              "        async function convertToInteractive(key) {\n",
              "          const element = document.querySelector('#df-4c700ccd-4247-4674-a2e4-c11b4564e174');\n",
              "          const dataTable =\n",
              "            await google.colab.kernel.invokeFunction('convertToInteractive',\n",
              "                                                     [key], {});\n",
              "          if (!dataTable) return;\n",
              "\n",
              "          const docLinkHtml = 'Like what you see? Visit the ' +\n",
              "            '<a target=\"_blank\" href=https://colab.research.google.com/notebooks/data_table.ipynb>data table notebook</a>'\n",
              "            + ' to learn more about interactive tables.';\n",
              "          element.innerHTML = '';\n",
              "          dataTable['output_type'] = 'display_data';\n",
              "          await google.colab.output.renderOutput(dataTable, element);\n",
              "          const docLink = document.createElement('div');\n",
              "          docLink.innerHTML = docLinkHtml;\n",
              "          element.appendChild(docLink);\n",
              "        }\n",
              "      </script>\n",
              "    </div>\n",
              "  </div>\n",
              "  "
            ]
          },
          "metadata": {},
          "execution_count": 36
        }
      ]
    },
    {
      "cell_type": "code",
      "source": [
        "# save submission\n",
        "import datetime\n",
        "UTC = datetime.datetime.now()\n",
        "UTC2KST = datetime. timedelta(hours=9)\n",
        "KST = UTC + UTC2KST\n",
        "\n",
        "# submission file name should be \"접수번호6자리.csv\"\n",
        "submissionFormat.to_csv(\n",
        "    'submission%02d%02d.csv'%(KST.month,KST.day),\n",
        "    index=False\n",
        ")"
      ],
      "metadata": {
        "id": "_dxatQX8XaIj"
      },
      "execution_count": 37,
      "outputs": []
    }
  ]
}