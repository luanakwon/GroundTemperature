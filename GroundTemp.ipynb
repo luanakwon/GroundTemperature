{
  "nbformat": 4,
  "nbformat_minor": 0,
  "metadata": {
    "colab": {
      "name": "GroundTemp.ipynb",
      "provenance": [],
      "collapsed_sections": [],
      "mount_file_id": "1uQtVc5KPDZz5Fq69T4UcG2cIHIy0_eK4",
      "authorship_tag": "ABX9TyOy9QMOl6lig4G0tCy/M72R",
      "include_colab_link": true
    },
    "kernelspec": {
      "name": "python3",
      "display_name": "Python 3"
    },
    "language_info": {
      "name": "python"
    }
  },
  "cells": [
    {
      "cell_type": "markdown",
      "metadata": {
        "id": "view-in-github",
        "colab_type": "text"
      },
      "source": [
        "<a href=\"https://colab.research.google.com/github/luanakwon/GroundTemperature/blob/main/GroundTemp.ipynb\" target=\"_parent\"><img src=\"https://colab.research.google.com/assets/colab-badge.svg\" alt=\"Open In Colab\"/></a>"
      ]
    },
    {
      "cell_type": "code",
      "execution_count": null,
      "metadata": {
        "id": "-YVc-pkKJkrA"
      },
      "outputs": [],
      "source": [
        "import pandas as pd\n",
        "import numpy as np\n",
        "import matplotlib.pyplot as plt\n",
        "import os\n"
      ]
    },
    {
      "cell_type": "code",
      "source": [
        "cols = [\"YearMonthDayHourMinute\",\"STN\",\"Lon\",\"Lat\",\"isitu-LST\",\"Band1\",\"Band2\",\"Band3\",\"Band4\",\"Band5\",\"Band6\",\"Band7\",\"Band8\",\"Band9\",\"Band10\",\"Band11\",\"Band12\",\"Band13\",\"Band14\",\"Band15\",\"Band16\",\"30daysBand3\",\"30daysBand13\",\"GK2A-LST\",\"SolarZA\",\"SateZA\",\"ESR\",\"Height\",\"LandType\",\"insitu-TA\",\"insitu-HM\",\"insitu-TD\",\"insitu-TG\",\"insitu-TED0.05\",\"insitu-TED0.1\",\"insitu-TED0.2\",\"insitu-TED0.3\",\"insitu-TED0.5\",\"insitu-TED1.0\",\"insitu-TED1.5\",\"insitu-TED3.0\",\"insitu-TED5.0\",\"insitu-PA\",\"insitu-PS\"]"
      ],
      "metadata": {
        "id": "DH4wjLkFLfIf"
      },
      "execution_count": null,
      "outputs": []
    },
    {
      "cell_type": "markdown",
      "source": [
        "# Data Overview"
      ],
      "metadata": {
        "id": "jlvRIfzlLmRC"
      }
    },
    {
      "cell_type": "code",
      "source": [
        "sample = pd.read_csv('20200101.LST.csv',header=0,names=cols)\n",
        "sample.head()"
      ],
      "metadata": {
        "colab": {
          "base_uri": "https://localhost:8080/",
          "height": 317
        },
        "id": "n8u1m3tdLW6t",
        "outputId": "dd2162fe-2b8c-4b3e-8331-7d1925bd9b33"
      },
      "execution_count": null,
      "outputs": [
        {
          "output_type": "execute_result",
          "data": {
            "text/plain": [
              "   YearMonthDayHourMinute  STN        Lon       Lat  isitu-LST    Band1  \\\n",
              "0            202001010000   92  128.66670  38.06670     -999.0 -0.00057   \n",
              "1            202001010000   93  127.75443  37.94738     -999.0  0.00000   \n",
              "2            202001010000   95  127.30420  38.14787       -2.6 -0.00057   \n",
              "3            202001010000   96  131.86983  37.23952     -999.0  0.00000   \n",
              "4            202001010000   98  127.06070  37.90188       -3.1  0.00000   \n",
              "\n",
              "     Band2   Band3    Band4   Band5  ...  insitu-TED0.1  insitu-TED0.2  \\\n",
              "0  0.00000  0.0003 -0.00030  0.0003  ...         -999.0         -999.0   \n",
              "1  0.00000  0.0003  0.00075 -0.0003  ...         -999.0         -999.0   \n",
              "2 -0.00057  0.0003 -0.00060 -0.0003  ...         -999.0         -999.0   \n",
              "3  0.00000  0.0000  0.00105  0.0000  ...         -999.0         -999.0   \n",
              "4  0.00000  0.0003  0.00060 -0.0003  ...         -999.0         -999.0   \n",
              "\n",
              "   insitu-TED0.3  insitu-TED0.5  insitu-TED1.0  insitu-TED1.5  insitu-TED3.0  \\\n",
              "0         -999.0         -999.0         -999.0         -999.0         -999.0   \n",
              "1         -999.0         -999.0         -999.0         -999.0         -999.0   \n",
              "2         -999.0         -999.0         -999.0         -999.0         -999.0   \n",
              "3         -999.0         -999.0         -999.0         -999.0         -999.0   \n",
              "4         -999.0         -999.0         -999.0         -999.0         -999.0   \n",
              "\n",
              "   insitu-TED5.0  insitu-PA  insitu-PS  \n",
              "0         -999.0     -999.0     -999.0  \n",
              "1         -999.0     -999.0     -999.0  \n",
              "2         -999.0     1014.1     1034.6  \n",
              "3         -999.0     -999.0     -999.0  \n",
              "4         -999.0     1019.6     1034.8  \n",
              "\n",
              "[5 rows x 44 columns]"
            ],
            "text/html": [
              "\n",
              "  <div id=\"df-9192ab09-270b-460b-84fa-67f871097c56\">\n",
              "    <div class=\"colab-df-container\">\n",
              "      <div>\n",
              "<style scoped>\n",
              "    .dataframe tbody tr th:only-of-type {\n",
              "        vertical-align: middle;\n",
              "    }\n",
              "\n",
              "    .dataframe tbody tr th {\n",
              "        vertical-align: top;\n",
              "    }\n",
              "\n",
              "    .dataframe thead th {\n",
              "        text-align: right;\n",
              "    }\n",
              "</style>\n",
              "<table border=\"1\" class=\"dataframe\">\n",
              "  <thead>\n",
              "    <tr style=\"text-align: right;\">\n",
              "      <th></th>\n",
              "      <th>YearMonthDayHourMinute</th>\n",
              "      <th>STN</th>\n",
              "      <th>Lon</th>\n",
              "      <th>Lat</th>\n",
              "      <th>isitu-LST</th>\n",
              "      <th>Band1</th>\n",
              "      <th>Band2</th>\n",
              "      <th>Band3</th>\n",
              "      <th>Band4</th>\n",
              "      <th>Band5</th>\n",
              "      <th>...</th>\n",
              "      <th>insitu-TED0.1</th>\n",
              "      <th>insitu-TED0.2</th>\n",
              "      <th>insitu-TED0.3</th>\n",
              "      <th>insitu-TED0.5</th>\n",
              "      <th>insitu-TED1.0</th>\n",
              "      <th>insitu-TED1.5</th>\n",
              "      <th>insitu-TED3.0</th>\n",
              "      <th>insitu-TED5.0</th>\n",
              "      <th>insitu-PA</th>\n",
              "      <th>insitu-PS</th>\n",
              "    </tr>\n",
              "  </thead>\n",
              "  <tbody>\n",
              "    <tr>\n",
              "      <th>0</th>\n",
              "      <td>202001010000</td>\n",
              "      <td>92</td>\n",
              "      <td>128.66670</td>\n",
              "      <td>38.06670</td>\n",
              "      <td>-999.0</td>\n",
              "      <td>-0.00057</td>\n",
              "      <td>0.00000</td>\n",
              "      <td>0.0003</td>\n",
              "      <td>-0.00030</td>\n",
              "      <td>0.0003</td>\n",
              "      <td>...</td>\n",
              "      <td>-999.0</td>\n",
              "      <td>-999.0</td>\n",
              "      <td>-999.0</td>\n",
              "      <td>-999.0</td>\n",
              "      <td>-999.0</td>\n",
              "      <td>-999.0</td>\n",
              "      <td>-999.0</td>\n",
              "      <td>-999.0</td>\n",
              "      <td>-999.0</td>\n",
              "      <td>-999.0</td>\n",
              "    </tr>\n",
              "    <tr>\n",
              "      <th>1</th>\n",
              "      <td>202001010000</td>\n",
              "      <td>93</td>\n",
              "      <td>127.75443</td>\n",
              "      <td>37.94738</td>\n",
              "      <td>-999.0</td>\n",
              "      <td>0.00000</td>\n",
              "      <td>0.00000</td>\n",
              "      <td>0.0003</td>\n",
              "      <td>0.00075</td>\n",
              "      <td>-0.0003</td>\n",
              "      <td>...</td>\n",
              "      <td>-999.0</td>\n",
              "      <td>-999.0</td>\n",
              "      <td>-999.0</td>\n",
              "      <td>-999.0</td>\n",
              "      <td>-999.0</td>\n",
              "      <td>-999.0</td>\n",
              "      <td>-999.0</td>\n",
              "      <td>-999.0</td>\n",
              "      <td>-999.0</td>\n",
              "      <td>-999.0</td>\n",
              "    </tr>\n",
              "    <tr>\n",
              "      <th>2</th>\n",
              "      <td>202001010000</td>\n",
              "      <td>95</td>\n",
              "      <td>127.30420</td>\n",
              "      <td>38.14787</td>\n",
              "      <td>-2.6</td>\n",
              "      <td>-0.00057</td>\n",
              "      <td>-0.00057</td>\n",
              "      <td>0.0003</td>\n",
              "      <td>-0.00060</td>\n",
              "      <td>-0.0003</td>\n",
              "      <td>...</td>\n",
              "      <td>-999.0</td>\n",
              "      <td>-999.0</td>\n",
              "      <td>-999.0</td>\n",
              "      <td>-999.0</td>\n",
              "      <td>-999.0</td>\n",
              "      <td>-999.0</td>\n",
              "      <td>-999.0</td>\n",
              "      <td>-999.0</td>\n",
              "      <td>1014.1</td>\n",
              "      <td>1034.6</td>\n",
              "    </tr>\n",
              "    <tr>\n",
              "      <th>3</th>\n",
              "      <td>202001010000</td>\n",
              "      <td>96</td>\n",
              "      <td>131.86983</td>\n",
              "      <td>37.23952</td>\n",
              "      <td>-999.0</td>\n",
              "      <td>0.00000</td>\n",
              "      <td>0.00000</td>\n",
              "      <td>0.0000</td>\n",
              "      <td>0.00105</td>\n",
              "      <td>0.0000</td>\n",
              "      <td>...</td>\n",
              "      <td>-999.0</td>\n",
              "      <td>-999.0</td>\n",
              "      <td>-999.0</td>\n",
              "      <td>-999.0</td>\n",
              "      <td>-999.0</td>\n",
              "      <td>-999.0</td>\n",
              "      <td>-999.0</td>\n",
              "      <td>-999.0</td>\n",
              "      <td>-999.0</td>\n",
              "      <td>-999.0</td>\n",
              "    </tr>\n",
              "    <tr>\n",
              "      <th>4</th>\n",
              "      <td>202001010000</td>\n",
              "      <td>98</td>\n",
              "      <td>127.06070</td>\n",
              "      <td>37.90188</td>\n",
              "      <td>-3.1</td>\n",
              "      <td>0.00000</td>\n",
              "      <td>0.00000</td>\n",
              "      <td>0.0003</td>\n",
              "      <td>0.00060</td>\n",
              "      <td>-0.0003</td>\n",
              "      <td>...</td>\n",
              "      <td>-999.0</td>\n",
              "      <td>-999.0</td>\n",
              "      <td>-999.0</td>\n",
              "      <td>-999.0</td>\n",
              "      <td>-999.0</td>\n",
              "      <td>-999.0</td>\n",
              "      <td>-999.0</td>\n",
              "      <td>-999.0</td>\n",
              "      <td>1019.6</td>\n",
              "      <td>1034.8</td>\n",
              "    </tr>\n",
              "  </tbody>\n",
              "</table>\n",
              "<p>5 rows × 44 columns</p>\n",
              "</div>\n",
              "      <button class=\"colab-df-convert\" onclick=\"convertToInteractive('df-9192ab09-270b-460b-84fa-67f871097c56')\"\n",
              "              title=\"Convert this dataframe to an interactive table.\"\n",
              "              style=\"display:none;\">\n",
              "        \n",
              "  <svg xmlns=\"http://www.w3.org/2000/svg\" height=\"24px\"viewBox=\"0 0 24 24\"\n",
              "       width=\"24px\">\n",
              "    <path d=\"M0 0h24v24H0V0z\" fill=\"none\"/>\n",
              "    <path d=\"M18.56 5.44l.94 2.06.94-2.06 2.06-.94-2.06-.94-.94-2.06-.94 2.06-2.06.94zm-11 1L8.5 8.5l.94-2.06 2.06-.94-2.06-.94L8.5 2.5l-.94 2.06-2.06.94zm10 10l.94 2.06.94-2.06 2.06-.94-2.06-.94-.94-2.06-.94 2.06-2.06.94z\"/><path d=\"M17.41 7.96l-1.37-1.37c-.4-.4-.92-.59-1.43-.59-.52 0-1.04.2-1.43.59L10.3 9.45l-7.72 7.72c-.78.78-.78 2.05 0 2.83L4 21.41c.39.39.9.59 1.41.59.51 0 1.02-.2 1.41-.59l7.78-7.78 2.81-2.81c.8-.78.8-2.07 0-2.86zM5.41 20L4 18.59l7.72-7.72 1.47 1.35L5.41 20z\"/>\n",
              "  </svg>\n",
              "      </button>\n",
              "      \n",
              "  <style>\n",
              "    .colab-df-container {\n",
              "      display:flex;\n",
              "      flex-wrap:wrap;\n",
              "      gap: 12px;\n",
              "    }\n",
              "\n",
              "    .colab-df-convert {\n",
              "      background-color: #E8F0FE;\n",
              "      border: none;\n",
              "      border-radius: 50%;\n",
              "      cursor: pointer;\n",
              "      display: none;\n",
              "      fill: #1967D2;\n",
              "      height: 32px;\n",
              "      padding: 0 0 0 0;\n",
              "      width: 32px;\n",
              "    }\n",
              "\n",
              "    .colab-df-convert:hover {\n",
              "      background-color: #E2EBFA;\n",
              "      box-shadow: 0px 1px 2px rgba(60, 64, 67, 0.3), 0px 1px 3px 1px rgba(60, 64, 67, 0.15);\n",
              "      fill: #174EA6;\n",
              "    }\n",
              "\n",
              "    [theme=dark] .colab-df-convert {\n",
              "      background-color: #3B4455;\n",
              "      fill: #D2E3FC;\n",
              "    }\n",
              "\n",
              "    [theme=dark] .colab-df-convert:hover {\n",
              "      background-color: #434B5C;\n",
              "      box-shadow: 0px 1px 3px 1px rgba(0, 0, 0, 0.15);\n",
              "      filter: drop-shadow(0px 1px 2px rgba(0, 0, 0, 0.3));\n",
              "      fill: #FFFFFF;\n",
              "    }\n",
              "  </style>\n",
              "\n",
              "      <script>\n",
              "        const buttonEl =\n",
              "          document.querySelector('#df-9192ab09-270b-460b-84fa-67f871097c56 button.colab-df-convert');\n",
              "        buttonEl.style.display =\n",
              "          google.colab.kernel.accessAllowed ? 'block' : 'none';\n",
              "\n",
              "        async function convertToInteractive(key) {\n",
              "          const element = document.querySelector('#df-9192ab09-270b-460b-84fa-67f871097c56');\n",
              "          const dataTable =\n",
              "            await google.colab.kernel.invokeFunction('convertToInteractive',\n",
              "                                                     [key], {});\n",
              "          if (!dataTable) return;\n",
              "\n",
              "          const docLinkHtml = 'Like what you see? Visit the ' +\n",
              "            '<a target=\"_blank\" href=https://colab.research.google.com/notebooks/data_table.ipynb>data table notebook</a>'\n",
              "            + ' to learn more about interactive tables.';\n",
              "          element.innerHTML = '';\n",
              "          dataTable['output_type'] = 'display_data';\n",
              "          await google.colab.output.renderOutput(dataTable, element);\n",
              "          const docLink = document.createElement('div');\n",
              "          docLink.innerHTML = docLinkHtml;\n",
              "          element.appendChild(docLink);\n",
              "        }\n",
              "      </script>\n",
              "    </div>\n",
              "  </div>\n",
              "  "
            ]
          },
          "metadata": {},
          "execution_count": 2
        }
      ]
    },
    {
      "cell_type": "code",
      "source": [
        "print(sample.shape)\n",
        "df = sample.iloc[:,1:4].drop_duplicates().to_numpy()\n",
        "df[:,1:] -= [124.63048,33.12206]\n",
        "print(min(df[:,1]),max(df[:,1]))\n",
        "print(min(df[:,2]),max(df[:,2]))\n",
        "plt.figure(figsize=(10,10))\n",
        "plt.plot(df[:,1],df[:,2],'b*')\n",
        "plt.show()"
      ],
      "metadata": {
        "colab": {
          "base_uri": "https://localhost:8080/",
          "height": 647
        },
        "id": "0Pa5kqHXLwX0",
        "outputId": "dfdec9eb-061a-4ebf-c383-754bcf0a2076"
      },
      "execution_count": null,
      "outputs": [
        {
          "output_type": "stream",
          "name": "stdout",
          "text": [
            "(104543, 44)\n",
            "0.0 7.239350000000002\n",
            "0.0 5.420450000000002\n"
          ]
        },
        {
          "output_type": "display_data",
          "data": {
            "text/plain": [
              "<Figure size 720x720 with 1 Axes>"
            ],
            "image/png": "[encoded data removed]"
          },
          "metadata": {
            "needs_background": "light"
          }
        }
      ]
    },
    {
      "cell_type": "code",
      "source": [
        "for i in range(4,44):\n",
        "  col = sample.loc[sample.iloc[:,i] > -999].iloc[:,i]\n",
        "  if i == 28:\n",
        "    print(f\"{cols[i]} \\t\\tmin: {np.min(col)} \\t\\t\\tmax: {np.max(col)} \\t\\t\\tavg: {np.mean(col)} \")\n",
        "  elif len(cols[i]) > 6:\n",
        "    print(f\"{cols[i]} \\t\\tmin: {np.min(col)} \\t\\tmax: {np.max(col)} \\t\\tavg: {np.mean(col)} \")\n",
        "  else:\n",
        "    print(f\"{cols[i]} \\t\\t\\tmin: {np.min(col)} \\t\\tmax: {np.max(col)} \\t\\tavg: {np.mean(col)} \")"
      ],
      "metadata": {
        "colab": {
          "base_uri": "https://localhost:8080/"
        },
        "id": "2PVRYOJgUqqT",
        "outputId": "0478f1c2-5010-49a8-9123-48190c63bfe7"
      },
      "execution_count": null,
      "outputs": [
        {
          "output_type": "stream",
          "name": "stdout",
          "text": [
            "isitu-LST \t\tmin: -4.9 \t\tmax: 26.2 \t\tavg: 0.27080945558739256 \n",
            "Band1 \t\t\tmin: -0.00113 \t\tmax: 0.47359 \t\tavg: 0.05738944055405184 \n",
            "Band2 \t\t\tmin: -0.00114 \t\tmax: 0.48815 \t\tavg: 0.054203694192665935 \n",
            "Band3 \t\t\tmin: -0.00328 \t\tmax: 0.50395 \t\tavg: 0.0484779530327403 \n",
            "Band4 \t\t\tmin: -0.00254 \t\tmax: 0.5813 \t\tavg: 0.059793412735871763 \n",
            "Band5 \t\t\tmin: -0.00151 \t\tmax: 0.08579 \t\tavg: 0.0038715424256143016 \n",
            "Band6 \t\t\tmin: -0.00129 \t\tmax: 0.42633 \t\tavg: 0.05491612221505149 \n",
            "Band7 \t\t\tmin: 238.19384 \t\tmax: 308.08012 \t\tavg: 271.8489144462853 \n",
            "Band8 \t\t\tmin: 228.0943 \t\tmax: 245.40486 \t\tavg: 238.82654382596303 \n",
            "Band9 \t\t\tmin: 230.42801 \t\tmax: 254.45996 \t\tavg: 248.05423254235814 \n",
            "Band10 \t\t\tmin: 231.328 \t\tmax: 262.12081 \t\tavg: 253.84858025438996 \n",
            "Band11 \t\t\tmin: 233.6343 \t\tmax: 285.24053 \t\tavg: 265.11799543090245 \n",
            "Band12 \t\t\tmin: 229.78848 \t\tmax: 262.39371 \t\tavg: 247.0980390755849 \n",
            "Band13 \t\t\tmin: 234.30622 \t\tmax: 287.81421 \t\tavg: 266.98636089782985 \n",
            "Band14 \t\t\tmin: 233.11319 \t\tmax: 288.20345 \t\tavg: 266.92803029484577 \n",
            "Band15 \t\t\tmin: 232.36465 \t\tmax: 285.74026 \t\tavg: 265.9924192247898 \n",
            "Band16 \t\t\tmin: 230.6272 \t\tmax: 268.00158 \t\tavg: 256.221362325438 \n",
            "30daysBand3 \t\tmin: 0.0 \t\tmax: 0.21487 \t\tavg: 0.019210284357450414 \n",
            "30daysBand13 \t\tmin: 265.50862 \t\tmax: 290.35593 \t\tavg: 275.82567759345767 \n",
            "GK2A-LST \t\tmin: -14.20999 \t\tmax: 17.82999 \t\tavg: 0.052154087772564084 \n",
            "SolarZA \t\tmin: 56.0863 \t\tmax: 169.73367 \t\tavg: 106.19515512411161 \n",
            "SateZA \t\t\tmin: 38.74888 \t\tmax: 44.84209 \t\tavg: 42.36327311202089 \n",
            "ESR \t\t\tmin: -9.63335 \t\tmax: 5.44919 \t\tavg: -2.2684307772878145 \n",
            "Height \t\t\tmin: 1.1 \t\tmax: 1665.71 \t\tavg: 137.86955329385995 \n",
            "LandType \t\tmin: 0 \t\t\tmax: 4 \t\t\tavg: 1.8787867193403671 \n",
            "insitu-TA \t\tmin: -10.6 \t\tmax: 9.4 \t\tavg: -0.5956876790830945 \n",
            "insitu-HM \t\tmin: 17.6 \t\tmax: 100.0 \t\tavg: 62.92393982808023 \n",
            "insitu-TD \t\tmin: -23.8 \t\tmax: 4.7 \t\tavg: -7.160573065902579 \n",
            "insitu-TG \t\tmin: -14.1 \t\tmax: 21.5 \t\tavg: 0.39805572109654364 \n",
            "insitu-TED0.05 \t\tmin: -3.1 \t\tmax: 25.7 \t\tavg: 2.2023276318109684 \n",
            "insitu-TED0.1 \t\tmin: -2.2 \t\tmax: 9.5 \t\tavg: 1.7778323454699407 \n",
            "insitu-TED0.2 \t\tmin: -0.2 \t\tmax: 10.3 \t\tavg: 2.900982218458933 \n",
            "insitu-TED0.3 \t\tmin: 0.0 \t\tmax: 11.6 \t\tavg: 3.6929551227773074 \n",
            "insitu-TED0.5 \t\tmin: 1.7 \t\tmax: 12.9 \t\tavg: 5.494032663316583 \n",
            "insitu-TED1.0 \t\tmin: 5.1 \t\tmax: 15.6 \t\tavg: 8.661023869346733 \n",
            "insitu-TED1.5 \t\tmin: 9.1 \t\tmax: 14.9 \t\tavg: 11.298426848453069 \n",
            "insitu-TED3.0 \t\tmin: -48.4 \t\tmax: 18.8 \t\tavg: 11.395660653339835 \n",
            "insitu-TED5.0 \t\tmin: 15.4 \t\tmax: 20.2 \t\tavg: 17.408023072889353 \n",
            "insitu-PA \t\tmin: 934.0 \t\tmax: 1034.3 \t\tavg: 1019.9422463255521 \n",
            "insitu-PS \t\tmin: 1025.0 \t\tmax: 1037.9 \t\tavg: 1031.8760433859939 \n"
          ]
        }
      ]
    },
    {
      "cell_type": "code",
      "source": [
        "df_LST = sample.loc[(sample['isitu-LST'] > -999)]\n",
        "print(f\"df size from {sample.shape} -> {df_LST.shape}\")\n",
        "df_TA = sample.loc[(sample['insitu-TA'] > -999)]\n",
        "print(f\"df size from {sample.shape} -> {df_TA.shape}\")\n",
        "df_LST_TA = sample.loc[(sample['isitu-LST'] > -999) | (sample['insitu-TA'] > -999)]\n",
        "print(f\"df size from {sample.shape} -> {df_LST_TA.shape}\")"
      ],
      "metadata": {
        "colab": {
          "base_uri": "https://localhost:8080/"
        },
        "id": "MCpLRj3Pi9RQ",
        "outputId": "b2d9543c-4f30-42ee-a1d1-cc480078d651"
      },
      "execution_count": null,
      "outputs": [
        {
          "output_type": "stream",
          "name": "stdout",
          "text": [
            "df size from (104543, 44) -> (13960, 44)\n",
            "df size from (104543, 44) -> (13960, 44)\n",
            "df size from (104543, 44) -> (13960, 44)\n"
          ]
        }
      ]
    },
    {
      "cell_type": "markdown",
      "source": [
        "# Drop unlabeled data"
      ],
      "metadata": {
        "id": "26tcDT2fLxi9"
      }
    },
    {
      "cell_type": "code",
      "source": [
        "%%bash\n",
        "STARTYEAR=2020\n",
        "ENDYEAR=2021\n",
        "for (( c=$STARTYEAR; c<=$ENDYEAR; c++ ))\n",
        "do\n",
        "  STARTMONTH=1\n",
        "  ENDMONTH=12\n",
        "  for (( d=$STARTMONTH; d<=$ENDMONTH; d++ ))\n",
        "  do\n",
        "    wget \"https://bd.kma.go.kr/contest/resources/$c$(printf '%02d' $d).zip\"\n",
        "    unzip \"/content/$c$(printf '%02d' $d).zip\" -d \"/content/data\"\n",
        "  done\n",
        "done"
      ],
      "metadata": {
        "id": "kB07B3CvazsT"
      },
      "execution_count": null,
      "outputs": []
    },
    {
      "cell_type": "code",
      "source": [
        "!wget \"https://bd.kma.go.kr/contest/resources/202003.zip\"\n",
        "!unzip \"/content/202003.zip\" -d \"/content/data\""
      ],
      "metadata": {
        "colab": {
          "base_uri": "https://localhost:8080/"
        },
        "id": "dR33NShSs70_",
        "outputId": "cb0359b6-9fcf-4b27-91a3-c6864a400148"
      },
      "execution_count": null,
      "outputs": [
        {
          "output_type": "stream",
          "name": "stdout",
          "text": [
            "--2022-06-20 15:22:19--  https://bd.kma.go.kr/contest/resources/202003.zip\n",
            "Resolving bd.kma.go.kr (bd.kma.go.kr)... 203.247.90.20\n",
            "Connecting to bd.kma.go.kr (bd.kma.go.kr)|203.247.90.20|:443... connected.\n",
            "HTTP request sent, awaiting response... 200 OK\n",
            "Length: 297718748 (284M) [application/zip]\n",
            "Saving to: ‘202003.zip’\n",
            "\n",
            "202003.zip          100%[===================>] 283.93M  14.9MB/s    in 25s     \n",
            "\n",
            "2022-06-20 15:22:45 (11.2 MB/s) - ‘202003.zip’ saved [297718748/297718748]\n",
            "\n",
            "Archive:  /content/202003.zip\n",
            "  inflating: /content/data/20200301.LST.csv  \n",
            "  inflating: /content/data/20200302.LST.csv  \n",
            "  inflating: /content/data/20200303.LST.csv  \n",
            "  inflating: /content/data/20200304.LST.csv  \n",
            "  inflating: /content/data/20200305.LST.csv  \n",
            "  inflating: /content/data/20200306.LST.csv  \n",
            "  inflating: /content/data/20200307.LST.csv  \n",
            "  inflating: /content/data/20200308.LST.csv  \n",
            "  inflating: /content/data/20200309.LST.csv  \n",
            "  inflating: /content/data/20200310.LST.csv  \n",
            "  inflating: /content/data/20200311.LST.csv  \n",
            "  inflating: /content/data/20200312.LST.csv  \n",
            "  inflating: /content/data/20200313.LST.csv  \n",
            "  inflating: /content/data/20200314.LST.csv  \n",
            "  inflating: /content/data/20200315.LST.csv  \n",
            "  inflating: /content/data/20200316.LST.csv  \n",
            "  inflating: /content/data/20200317.LST.csv  \n",
            "  inflating: /content/data/20200318.LST.csv  \n",
            "  inflating: /content/data/20200319.LST.csv  \n",
            "  inflating: /content/data/20200320.LST.csv  \n",
            "  inflating: /content/data/20200321.LST.csv  \n",
            "  inflating: /content/data/20200322.LST.csv  \n",
            "  inflating: /content/data/20200323.LST.csv  \n",
            "  inflating: /content/data/20200324.LST.csv  \n",
            "  inflating: /content/data/20200325.LST.csv  \n",
            "  inflating: /content/data/20200326.LST.csv  \n",
            "  inflating: /content/data/20200327.LST.csv  \n",
            "  inflating: /content/data/20200328.LST.csv  \n",
            "  inflating: /content/data/20200329.LST.csv  \n",
            "  inflating: /content/data/20200330.LST.csv  \n",
            "  inflating: /content/data/20200331.LST.csv  \n"
          ]
        }
      ]
    },
    {
      "cell_type": "code",
      "source": [
        "folderpath='data/'\n",
        "\n",
        "for year in [2020]:\n",
        "  for month in range(3,4):\n",
        "    allmon = []\n",
        "    for i in range(1,32):\n",
        "      try:\n",
        "        df = pd.read_csv(folderpath + '%d%02d%02d.LST.csv'%(year,month,i),names=cols)\n",
        "      except FileNotFoundError:\n",
        "        print('%d%02d%02d.LST.csv missing'%(year,month,i))\n",
        "        continue\n",
        "      # exclude testset\n",
        "      if year==2021 and ((month==7 and 1<=i and i<=11) or (month==8 and 21<=i and i<=31)):\n",
        "        continue\n",
        "\n",
        "      len0 = df.shape[0]\n",
        "      df = df.loc[(df['isitu-LST'] > -999) | (df['insitu-TA'] > -999)]\n",
        "      len1 = df.shape[0]\n",
        "      print(f\"dropped {len0-len1}, concatenating {len1} from\",'%d%02d%02d.LST.csv'%(year,month,i))\n",
        "      allmon.append(df)\n",
        "      \n",
        "    if len(allmon) != 0:\n",
        "      df_all = pd.concat(allmon)\n",
        "      print('='*10 + ' %d%02d done '%(year,month) + '='*10 + f'  {df_all.shape}')\n",
        "      df_all.to_csv('%d%02d.LST.csv'%(year,month),header=False, index=False)"
      ],
      "metadata": {
        "colab": {
          "base_uri": "https://localhost:8080/"
        },
        "id": "ak310q3lt4CI",
        "outputId": "c926b8a8-49ad-41de-ed55-891b0c51efc3"
      },
      "execution_count": null,
      "outputs": [
        {
          "output_type": "stream",
          "name": "stdout",
          "text": [
            "dropped 89141, concatenating 15403 from 20200301.LST.csv\n",
            "dropped 89178, concatenating 15366 from 20200302.LST.csv\n",
            "dropped 89147, concatenating 15397 from 20200303.LST.csv\n",
            "dropped 89183, concatenating 15361 from 20200304.LST.csv\n",
            "dropped 89139, concatenating 15405 from 20200305.LST.csv\n",
            "dropped 89400, concatenating 15144 from 20200306.LST.csv\n",
            "dropped 89154, concatenating 15390 from 20200307.LST.csv\n",
            "dropped 89141, concatenating 15403 from 20200308.LST.csv\n",
            "dropped 89154, concatenating 15390 from 20200309.LST.csv\n",
            "dropped 89149, concatenating 15395 from 20200310.LST.csv\n",
            "dropped 89150, concatenating 15394 from 20200311.LST.csv\n",
            "dropped 89221, concatenating 15323 from 20200312.LST.csv\n",
            "dropped 89191, concatenating 15353 from 20200313.LST.csv\n",
            "dropped 89140, concatenating 15404 from 20200314.LST.csv\n",
            "dropped 89139, concatenating 15405 from 20200315.LST.csv\n",
            "dropped 89145, concatenating 15399 from 20200316.LST.csv\n",
            "dropped 89154, concatenating 15390 from 20200317.LST.csv\n",
            "dropped 89146, concatenating 15398 from 20200318.LST.csv\n",
            "dropped 89156, concatenating 15388 from 20200319.LST.csv\n",
            "dropped 89149, concatenating 15395 from 20200320.LST.csv\n",
            "dropped 89160, concatenating 15384 from 20200321.LST.csv\n",
            "dropped 89200, concatenating 15344 from 20200322.LST.csv\n",
            "dropped 89171, concatenating 15373 from 20200323.LST.csv\n",
            "dropped 89158, concatenating 15386 from 20200324.LST.csv\n",
            "dropped 89283, concatenating 15261 from 20200325.LST.csv\n",
            "dropped 89309, concatenating 15235 from 20200326.LST.csv\n",
            "dropped 89285, concatenating 15259 from 20200327.LST.csv\n",
            "dropped 89298, concatenating 15246 from 20200328.LST.csv\n",
            "dropped 89312, concatenating 15232 from 20200329.LST.csv\n",
            "dropped 89295, concatenating 15249 from 20200330.LST.csv\n",
            "dropped 89332, concatenating 15212 from 20200331.LST.csv\n",
            "========== 202003 done ==========  (475684, 44)\n"
          ]
        }
      ]
    },
    {
      "cell_type": "code",
      "source": [
        "os.system(\"rm %d%02d??.LST.csv\"%(year,month))"
      ],
      "metadata": {
        "colab": {
          "base_uri": "https://localhost:8080/"
        },
        "id": "nHG_xqse1M06",
        "outputId": "633f0d76-5a9b-42c9-e0ab-d67370765db7"
      },
      "execution_count": null,
      "outputs": [
        {
          "output_type": "execute_result",
          "data": {
            "text/plain": [
              "0"
            ]
          },
          "metadata": {},
          "execution_count": 40
        }
      ]
    },
    {
      "cell_type": "code",
      "source": [
        "!cp /content/202003.LST.csv /content/drive/MyDrive/Dataset/GroundTemp/."
      ],
      "metadata": {
        "id": "jtlSjS7irw8Y"
      },
      "execution_count": null,
      "outputs": []
    }
  ]
}