{
  "nbformat": 4,
  "nbformat_minor": 0,
  "metadata": {
    "colab": {
      "name": "GroundTemp.ipynb",
      "provenance": [],
      "collapsed_sections": [
        "jlvRIfzlLmRC",
        "26tcDT2fLxi9",
        "g4aPobAqeyQO"
      ],
      "machine_shape": "hm",
      "authorship_tag": "ABX9TyMxKrfkQp6L+Teun8wfJ0hM",
      "include_colab_link": true
    },
    "kernelspec": {
      "name": "python3",
      "display_name": "Python 3"
    },
    "language_info": {
      "name": "python"
    },
    "gpuClass": "standard"
  },
  "cells": [
    {
      "cell_type": "markdown",
      "metadata": {
        "id": "view-in-github",
        "colab_type": "text"
      },
      "source": [
        "<a href=\"https://colab.research.google.com/github/luanakwon/GroundTemperature/blob/main/GroundTemp.ipynb\" target=\"_parent\"><img src=\"https://colab.research.google.com/assets/colab-badge.svg\" alt=\"Open In Colab\"/></a>"
      ]
    },
    {
      "cell_type": "code",
      "execution_count": 1,
      "metadata": {
        "id": "-YVc-pkKJkrA"
      },
      "outputs": [],
      "source": [
        "import pandas as pd\n",
        "import numpy as np\n",
        "import matplotlib.pyplot as plt\n",
        "import os\n"
      ]
    },
    {
      "cell_type": "code",
      "source": [
        "cols = [\"YearMonthDayHourMinute\",\"STN\",\"Lon\",\"Lat\",\"isitu-LST\",\"Band1\",\"Band2\",\"Band3\",\"Band4\",\"Band5\",\"Band6\",\"Band7\",\"Band8\",\"Band9\",\"Band10\",\"Band11\",\"Band12\",\"Band13\",\"Band14\",\"Band15\",\"Band16\",\"30daysBand3\",\"30daysBand13\",\"GK2A-LST\",\"SolarZA\",\"SateZA\",\"ESR\",\"Height\",\"LandType\",\"insitu-TA\",\"insitu-HM\",\"insitu-TD\",\"insitu-TG\",\"insitu-TED0.05\",\"insitu-TED0.1\",\"insitu-TED0.2\",\"insitu-TED0.3\",\"insitu-TED0.5\",\"insitu-TED1.0\",\"insitu-TED1.5\",\"insitu-TED3.0\",\"insitu-TED5.0\",\"insitu-PA\",\"insitu-PS\"]\n",
        "features = [\"YearMonthDayHourMinute\",\"STN\",\"Lon\",\"Lat\",\n",
        "           \"Band1\",\"Band2\",\"Band3\",\"Band4\",\n",
        "           \"Band5\",\"Band6\",\"Band7\",\"Band8\",\n",
        "           \"Band9\",\"Band10\",\"Band11\",\"Band12\",\n",
        "           \"Band13\",\"Band14\",\"Band15\",\"Band16\",\n",
        "           \"30daysBand3\",\"30daysBand13\",\n",
        "           \"GK2A-LST\",\"SolarZA\",\"SateZA\",\n",
        "           \"ESR\",\n",
        "           \"LandType\"]\n",
        "targets = [\"isitu-LST\",\"insitu-TA\"]"
      ],
      "metadata": {
        "id": "DH4wjLkFLfIf"
      },
      "execution_count": 2,
      "outputs": []
    },
    {
      "cell_type": "markdown",
      "source": [
        "# Data Overview"
      ],
      "metadata": {
        "id": "jlvRIfzlLmRC"
      }
    },
    {
      "cell_type": "code",
      "source": [
        "sample = pd.read_csv('20200101.LST.csv',header=0,names=cols)\n",
        "sample.head()"
      ],
      "metadata": {
        "colab": {
          "base_uri": "https://localhost:8080/",
          "height": 317
        },
        "id": "n8u1m3tdLW6t",
        "outputId": "dd2162fe-2b8c-4b3e-8331-7d1925bd9b33"
      },
      "execution_count": null,
      "outputs": [
        {
          "output_type": "execute_result",
          "data": {
            "text/plain": [
              "   YearMonthDayHourMinute  STN        Lon       Lat  isitu-LST    Band1  \\\n",
              "0            202001010000   92  128.66670  38.06670     -999.0 -0.00057   \n",
              "1            202001010000   93  127.75443  37.94738     -999.0  0.00000   \n",
              "2            202001010000   95  127.30420  38.14787       -2.6 -0.00057   \n",
              "3            202001010000   96  131.86983  37.23952     -999.0  0.00000   \n",
              "4            202001010000   98  127.06070  37.90188       -3.1  0.00000   \n",
              "\n",
              "     Band2   Band3    Band4   Band5  ...  insitu-TED0.1  insitu-TED0.2  \\\n",
              "0  0.00000  0.0003 -0.00030  0.0003  ...         -999.0         -999.0   \n",
              "1  0.00000  0.0003  0.00075 -0.0003  ...         -999.0         -999.0   \n",
              "2 -0.00057  0.0003 -0.00060 -0.0003  ...         -999.0         -999.0   \n",
              "3  0.00000  0.0000  0.00105  0.0000  ...         -999.0         -999.0   \n",
              "4  0.00000  0.0003  0.00060 -0.0003  ...         -999.0         -999.0   \n",
              "\n",
              "   insitu-TED0.3  insitu-TED0.5  insitu-TED1.0  insitu-TED1.5  insitu-TED3.0  \\\n",
              "0         -999.0         -999.0         -999.0         -999.0         -999.0   \n",
              "1         -999.0         -999.0         -999.0         -999.0         -999.0   \n",
              "2         -999.0         -999.0         -999.0         -999.0         -999.0   \n",
              "3         -999.0         -999.0         -999.0         -999.0         -999.0   \n",
              "4         -999.0         -999.0         -999.0         -999.0         -999.0   \n",
              "\n",
              "   insitu-TED5.0  insitu-PA  insitu-PS  \n",
              "0         -999.0     -999.0     -999.0  \n",
              "1         -999.0     -999.0     -999.0  \n",
              "2         -999.0     1014.1     1034.6  \n",
              "3         -999.0     -999.0     -999.0  \n",
              "4         -999.0     1019.6     1034.8  \n",
              "\n",
              "[5 rows x 44 columns]"
            ],
            "text/html": [
              "\n",
              "  <div id=\"df-9192ab09-270b-460b-84fa-67f871097c56\">\n",
              "    <div class=\"colab-df-container\">\n",
              "      <div>\n",
              "<style scoped>\n",
              "    .dataframe tbody tr th:only-of-type {\n",
              "        vertical-align: middle;\n",
              "    }\n",
              "\n",
              "    .dataframe tbody tr th {\n",
              "        vertical-align: top;\n",
              "    }\n",
              "\n",
              "    .dataframe thead th {\n",
              "        text-align: right;\n",
              "    }\n",
              "</style>\n",
              "<table border=\"1\" class=\"dataframe\">\n",
              "  <thead>\n",
              "    <tr style=\"text-align: right;\">\n",
              "      <th></th>\n",
              "      <th>YearMonthDayHourMinute</th>\n",
              "      <th>STN</th>\n",
              "      <th>Lon</th>\n",
              "      <th>Lat</th>\n",
              "      <th>isitu-LST</th>\n",
              "      <th>Band1</th>\n",
              "      <th>Band2</th>\n",
              "      <th>Band3</th>\n",
              "      <th>Band4</th>\n",
              "      <th>Band5</th>\n",
              "      <th>...</th>\n",
              "      <th>insitu-TED0.1</th>\n",
              "      <th>insitu-TED0.2</th>\n",
              "      <th>insitu-TED0.3</th>\n",
              "      <th>insitu-TED0.5</th>\n",
              "      <th>insitu-TED1.0</th>\n",
              "      <th>insitu-TED1.5</th>\n",
              "      <th>insitu-TED3.0</th>\n",
              "      <th>insitu-TED5.0</th>\n",
              "      <th>insitu-PA</th>\n",
              "      <th>insitu-PS</th>\n",
              "    </tr>\n",
              "  </thead>\n",
              "  <tbody>\n",
              "    <tr>\n",
              "      <th>0</th>\n",
              "      <td>202001010000</td>\n",
              "      <td>92</td>\n",
              "      <td>128.66670</td>\n",
              "      <td>38.06670</td>\n",
              "      <td>-999.0</td>\n",
              "      <td>-0.00057</td>\n",
              "      <td>0.00000</td>\n",
              "      <td>0.0003</td>\n",
              "      <td>-0.00030</td>\n",
              "      <td>0.0003</td>\n",
              "      <td>...</td>\n",
              "      <td>-999.0</td>\n",
              "      <td>-999.0</td>\n",
              "      <td>-999.0</td>\n",
              "      <td>-999.0</td>\n",
              "      <td>-999.0</td>\n",
              "      <td>-999.0</td>\n",
              "      <td>-999.0</td>\n",
              "      <td>-999.0</td>\n",
              "      <td>-999.0</td>\n",
              "      <td>-999.0</td>\n",
              "    </tr>\n",
              "    <tr>\n",
              "      <th>1</th>\n",
              "      <td>202001010000</td>\n",
              "      <td>93</td>\n",
              "      <td>127.75443</td>\n",
              "      <td>37.94738</td>\n",
              "      <td>-999.0</td>\n",
              "      <td>0.00000</td>\n",
              "      <td>0.00000</td>\n",
              "      <td>0.0003</td>\n",
              "      <td>0.00075</td>\n",
              "      <td>-0.0003</td>\n",
              "      <td>...</td>\n",
              "      <td>-999.0</td>\n",
              "      <td>-999.0</td>\n",
              "      <td>-999.0</td>\n",
              "      <td>-999.0</td>\n",
              "      <td>-999.0</td>\n",
              "      <td>-999.0</td>\n",
              "      <td>-999.0</td>\n",
              "      <td>-999.0</td>\n",
              "      <td>-999.0</td>\n",
              "      <td>-999.0</td>\n",
              "    </tr>\n",
              "    <tr>\n",
              "      <th>2</th>\n",
              "      <td>202001010000</td>\n",
              "      <td>95</td>\n",
              "      <td>127.30420</td>\n",
              "      <td>38.14787</td>\n",
              "      <td>-2.6</td>\n",
              "      <td>-0.00057</td>\n",
              "      <td>-0.00057</td>\n",
              "      <td>0.0003</td>\n",
              "      <td>-0.00060</td>\n",
              "      <td>-0.0003</td>\n",
              "      <td>...</td>\n",
              "      <td>-999.0</td>\n",
              "      <td>-999.0</td>\n",
              "      <td>-999.0</td>\n",
              "      <td>-999.0</td>\n",
              "      <td>-999.0</td>\n",
              "      <td>-999.0</td>\n",
              "      <td>-999.0</td>\n",
              "      <td>-999.0</td>\n",
              "      <td>1014.1</td>\n",
              "      <td>1034.6</td>\n",
              "    </tr>\n",
              "    <tr>\n",
              "      <th>3</th>\n",
              "      <td>202001010000</td>\n",
              "      <td>96</td>\n",
              "      <td>131.86983</td>\n",
              "      <td>37.23952</td>\n",
              "      <td>-999.0</td>\n",
              "      <td>0.00000</td>\n",
              "      <td>0.00000</td>\n",
              "      <td>0.0000</td>\n",
              "      <td>0.00105</td>\n",
              "      <td>0.0000</td>\n",
              "      <td>...</td>\n",
              "      <td>-999.0</td>\n",
              "      <td>-999.0</td>\n",
              "      <td>-999.0</td>\n",
              "      <td>-999.0</td>\n",
              "      <td>-999.0</td>\n",
              "      <td>-999.0</td>\n",
              "      <td>-999.0</td>\n",
              "      <td>-999.0</td>\n",
              "      <td>-999.0</td>\n",
              "      <td>-999.0</td>\n",
              "    </tr>\n",
              "    <tr>\n",
              "      <th>4</th>\n",
              "      <td>202001010000</td>\n",
              "      <td>98</td>\n",
              "      <td>127.06070</td>\n",
              "      <td>37.90188</td>\n",
              "      <td>-3.1</td>\n",
              "      <td>0.00000</td>\n",
              "      <td>0.00000</td>\n",
              "      <td>0.0003</td>\n",
              "      <td>0.00060</td>\n",
              "      <td>-0.0003</td>\n",
              "      <td>...</td>\n",
              "      <td>-999.0</td>\n",
              "      <td>-999.0</td>\n",
              "      <td>-999.0</td>\n",
              "      <td>-999.0</td>\n",
              "      <td>-999.0</td>\n",
              "      <td>-999.0</td>\n",
              "      <td>-999.0</td>\n",
              "      <td>-999.0</td>\n",
              "      <td>1019.6</td>\n",
              "      <td>1034.8</td>\n",
              "    </tr>\n",
              "  </tbody>\n",
              "</table>\n",
              "<p>5 rows × 44 columns</p>\n",
              "</div>\n",
              "      <button class=\"colab-df-convert\" onclick=\"convertToInteractive('df-9192ab09-270b-460b-84fa-67f871097c56')\"\n",
              "              title=\"Convert this dataframe to an interactive table.\"\n",
              "              style=\"display:none;\">\n",
              "        \n",
              "  <svg xmlns=\"http://www.w3.org/2000/svg\" height=\"24px\"viewBox=\"0 0 24 24\"\n",
              "       width=\"24px\">\n",
              "    <path d=\"M0 0h24v24H0V0z\" fill=\"none\"/>\n",
              "    <path d=\"M18.56 5.44l.94 2.06.94-2.06 2.06-.94-2.06-.94-.94-2.06-.94 2.06-2.06.94zm-11 1L8.5 8.5l.94-2.06 2.06-.94-2.06-.94L8.5 2.5l-.94 2.06-2.06.94zm10 10l.94 2.06.94-2.06 2.06-.94-2.06-.94-.94-2.06-.94 2.06-2.06.94z\"/><path d=\"M17.41 7.96l-1.37-1.37c-.4-.4-.92-.59-1.43-.59-.52 0-1.04.2-1.43.59L10.3 9.45l-7.72 7.72c-.78.78-.78 2.05 0 2.83L4 21.41c.39.39.9.59 1.41.59.51 0 1.02-.2 1.41-.59l7.78-7.78 2.81-2.81c.8-.78.8-2.07 0-2.86zM5.41 20L4 18.59l7.72-7.72 1.47 1.35L5.41 20z\"/>\n",
              "  </svg>\n",
              "      </button>\n",
              "      \n",
              "  <style>\n",
              "    .colab-df-container {\n",
              "      display:flex;\n",
              "      flex-wrap:wrap;\n",
              "      gap: 12px;\n",
              "    }\n",
              "\n",
              "    .colab-df-convert {\n",
              "      background-color: #E8F0FE;\n",
              "      border: none;\n",
              "      border-radius: 50%;\n",
              "      cursor: pointer;\n",
              "      display: none;\n",
              "      fill: #1967D2;\n",
              "      height: 32px;\n",
              "      padding: 0 0 0 0;\n",
              "      width: 32px;\n",
              "    }\n",
              "\n",
              "    .colab-df-convert:hover {\n",
              "      background-color: #E2EBFA;\n",
              "      box-shadow: 0px 1px 2px rgba(60, 64, 67, 0.3), 0px 1px 3px 1px rgba(60, 64, 67, 0.15);\n",
              "      fill: #174EA6;\n",
              "    }\n",
              "\n",
              "    [theme=dark] .colab-df-convert {\n",
              "      background-color: #3B4455;\n",
              "      fill: #D2E3FC;\n",
              "    }\n",
              "\n",
              "    [theme=dark] .colab-df-convert:hover {\n",
              "      background-color: #434B5C;\n",
              "      box-shadow: 0px 1px 3px 1px rgba(0, 0, 0, 0.15);\n",
              "      filter: drop-shadow(0px 1px 2px rgba(0, 0, 0, 0.3));\n",
              "      fill: #FFFFFF;\n",
              "    }\n",
              "  </style>\n",
              "\n",
              "      <script>\n",
              "        const buttonEl =\n",
              "          document.querySelector('#df-9192ab09-270b-460b-84fa-67f871097c56 button.colab-df-convert');\n",
              "        buttonEl.style.display =\n",
              "          google.colab.kernel.accessAllowed ? 'block' : 'none';\n",
              "\n",
              "        async function convertToInteractive(key) {\n",
              "          const element = document.querySelector('#df-9192ab09-270b-460b-84fa-67f871097c56');\n",
              "          const dataTable =\n",
              "            await google.colab.kernel.invokeFunction('convertToInteractive',\n",
              "                                                     [key], {});\n",
              "          if (!dataTable) return;\n",
              "\n",
              "          const docLinkHtml = 'Like what you see? Visit the ' +\n",
              "            '<a target=\"_blank\" href=https://colab.research.google.com/notebooks/data_table.ipynb>data table notebook</a>'\n",
              "            + ' to learn more about interactive tables.';\n",
              "          element.innerHTML = '';\n",
              "          dataTable['output_type'] = 'display_data';\n",
              "          await google.colab.output.renderOutput(dataTable, element);\n",
              "          const docLink = document.createElement('div');\n",
              "          docLink.innerHTML = docLinkHtml;\n",
              "          element.appendChild(docLink);\n",
              "        }\n",
              "      </script>\n",
              "    </div>\n",
              "  </div>\n",
              "  "
            ]
          },
          "metadata": {},
          "execution_count": 2
        }
      ]
    },
    {
      "cell_type": "code",
      "source": [
        "print(sample.shape)\n",
        "df = sample.iloc[:,1:4].drop_duplicates().to_numpy()\n",
        "df[:,1:] -= [124.63048,33.12206]\n",
        "print(min(df[:,1]),max(df[:,1]))\n",
        "print(min(df[:,2]),max(df[:,2]))\n",
        "plt.figure(figsize=(10,10))\n",
        "plt.plot(df[:,1],df[:,2],'b*')\n",
        "plt.show()"
      ],
      "metadata": {
        "colab": {
          "base_uri": "https://localhost:8080/",
          "height": 647
        },
        "id": "0Pa5kqHXLwX0",
        "outputId": "dfdec9eb-061a-4ebf-c383-754bcf0a2076"
      },
      "execution_count": null,
      "outputs": [
        {
          "output_type": "stream",
          "name": "stdout",
          "text": [
            "(104543, 44)\n",
            "0.0 7.239350000000002\n",
            "0.0 5.420450000000002\n"
          ]
        },
        {
          "output_type": "display_data",
          "data": {
            "text/plain": [
              "<Figure size 720x720 with 1 Axes>"
            ],
            "image/png": "[encoded data removed]"
          },
          "metadata": {
            "needs_background": "light"
          }
        }
      ]
    },
    {
      "cell_type": "code",
      "source": [
        "for i in range(4,44):\n",
        "  col = sample.loc[sample.iloc[:,i] > -999].iloc[:,i]\n",
        "  if i == 28:\n",
        "    print(f\"{cols[i]} \\t\\tmin: {np.min(col)} \\t\\t\\tmax: {np.max(col)} \\t\\t\\tavg: {np.mean(col)} \")\n",
        "  elif len(cols[i]) > 6:\n",
        "    print(f\"{cols[i]} \\t\\tmin: {np.min(col)} \\t\\tmax: {np.max(col)} \\t\\tavg: {np.mean(col)} \")\n",
        "  else:\n",
        "    print(f\"{cols[i]} \\t\\t\\tmin: {np.min(col)} \\t\\tmax: {np.max(col)} \\t\\tavg: {np.mean(col)} \")"
      ],
      "metadata": {
        "colab": {
          "base_uri": "https://localhost:8080/"
        },
        "id": "2PVRYOJgUqqT",
        "outputId": "0478f1c2-5010-49a8-9123-48190c63bfe7"
      },
      "execution_count": null,
      "outputs": [
        {
          "output_type": "stream",
          "name": "stdout",
          "text": [
            "isitu-LST \t\tmin: -4.9 \t\tmax: 26.2 \t\tavg: 0.27080945558739256 \n",
            "Band1 \t\t\tmin: -0.00113 \t\tmax: 0.47359 \t\tavg: 0.05738944055405184 \n",
            "Band2 \t\t\tmin: -0.00114 \t\tmax: 0.48815 \t\tavg: 0.054203694192665935 \n",
            "Band3 \t\t\tmin: -0.00328 \t\tmax: 0.50395 \t\tavg: 0.0484779530327403 \n",
            "Band4 \t\t\tmin: -0.00254 \t\tmax: 0.5813 \t\tavg: 0.059793412735871763 \n",
            "Band5 \t\t\tmin: -0.00151 \t\tmax: 0.08579 \t\tavg: 0.0038715424256143016 \n",
            "Band6 \t\t\tmin: -0.00129 \t\tmax: 0.42633 \t\tavg: 0.05491612221505149 \n",
            "Band7 \t\t\tmin: 238.19384 \t\tmax: 308.08012 \t\tavg: 271.8489144462853 \n",
            "Band8 \t\t\tmin: 228.0943 \t\tmax: 245.40486 \t\tavg: 238.82654382596303 \n",
            "Band9 \t\t\tmin: 230.42801 \t\tmax: 254.45996 \t\tavg: 248.05423254235814 \n",
            "Band10 \t\t\tmin: 231.328 \t\tmax: 262.12081 \t\tavg: 253.84858025438996 \n",
            "Band11 \t\t\tmin: 233.6343 \t\tmax: 285.24053 \t\tavg: 265.11799543090245 \n",
            "Band12 \t\t\tmin: 229.78848 \t\tmax: 262.39371 \t\tavg: 247.0980390755849 \n",
            "Band13 \t\t\tmin: 234.30622 \t\tmax: 287.81421 \t\tavg: 266.98636089782985 \n",
            "Band14 \t\t\tmin: 233.11319 \t\tmax: 288.20345 \t\tavg: 266.92803029484577 \n",
            "Band15 \t\t\tmin: 232.36465 \t\tmax: 285.74026 \t\tavg: 265.9924192247898 \n",
            "Band16 \t\t\tmin: 230.6272 \t\tmax: 268.00158 \t\tavg: 256.221362325438 \n",
            "30daysBand3 \t\tmin: 0.0 \t\tmax: 0.21487 \t\tavg: 0.019210284357450414 \n",
            "30daysBand13 \t\tmin: 265.50862 \t\tmax: 290.35593 \t\tavg: 275.82567759345767 \n",
            "GK2A-LST \t\tmin: -14.20999 \t\tmax: 17.82999 \t\tavg: 0.052154087772564084 \n",
            "SolarZA \t\tmin: 56.0863 \t\tmax: 169.73367 \t\tavg: 106.19515512411161 \n",
            "SateZA \t\t\tmin: 38.74888 \t\tmax: 44.84209 \t\tavg: 42.36327311202089 \n",
            "ESR \t\t\tmin: -9.63335 \t\tmax: 5.44919 \t\tavg: -2.2684307772878145 \n",
            "Height \t\t\tmin: 1.1 \t\tmax: 1665.71 \t\tavg: 137.86955329385995 \n",
            "LandType \t\tmin: 0 \t\t\tmax: 4 \t\t\tavg: 1.8787867193403671 \n",
            "insitu-TA \t\tmin: -10.6 \t\tmax: 9.4 \t\tavg: -0.5956876790830945 \n",
            "insitu-HM \t\tmin: 17.6 \t\tmax: 100.0 \t\tavg: 62.92393982808023 \n",
            "insitu-TD \t\tmin: -23.8 \t\tmax: 4.7 \t\tavg: -7.160573065902579 \n",
            "insitu-TG \t\tmin: -14.1 \t\tmax: 21.5 \t\tavg: 0.39805572109654364 \n",
            "insitu-TED0.05 \t\tmin: -3.1 \t\tmax: 25.7 \t\tavg: 2.2023276318109684 \n",
            "insitu-TED0.1 \t\tmin: -2.2 \t\tmax: 9.5 \t\tavg: 1.7778323454699407 \n",
            "insitu-TED0.2 \t\tmin: -0.2 \t\tmax: 10.3 \t\tavg: 2.900982218458933 \n",
            "insitu-TED0.3 \t\tmin: 0.0 \t\tmax: 11.6 \t\tavg: 3.6929551227773074 \n",
            "insitu-TED0.5 \t\tmin: 1.7 \t\tmax: 12.9 \t\tavg: 5.494032663316583 \n",
            "insitu-TED1.0 \t\tmin: 5.1 \t\tmax: 15.6 \t\tavg: 8.661023869346733 \n",
            "insitu-TED1.5 \t\tmin: 9.1 \t\tmax: 14.9 \t\tavg: 11.298426848453069 \n",
            "insitu-TED3.0 \t\tmin: -48.4 \t\tmax: 18.8 \t\tavg: 11.395660653339835 \n",
            "insitu-TED5.0 \t\tmin: 15.4 \t\tmax: 20.2 \t\tavg: 17.408023072889353 \n",
            "insitu-PA \t\tmin: 934.0 \t\tmax: 1034.3 \t\tavg: 1019.9422463255521 \n",
            "insitu-PS \t\tmin: 1025.0 \t\tmax: 1037.9 \t\tavg: 1031.8760433859939 \n"
          ]
        }
      ]
    },
    {
      "cell_type": "code",
      "source": [
        "df_LST = sample.loc[(sample['isitu-LST'] > -999)]\n",
        "print(f\"df size from {sample.shape} -> {df_LST.shape}\")\n",
        "df_TA = sample.loc[(sample['insitu-TA'] > -999)]\n",
        "print(f\"df size from {sample.shape} -> {df_TA.shape}\")\n",
        "df_LST_TA = sample.loc[(sample['isitu-LST'] > -999) | (sample['insitu-TA'] > -999)]\n",
        "print(f\"df size from {sample.shape} -> {df_LST_TA.shape}\")"
      ],
      "metadata": {
        "colab": {
          "base_uri": "https://localhost:8080/"
        },
        "id": "MCpLRj3Pi9RQ",
        "outputId": "b2d9543c-4f30-42ee-a1d1-cc480078d651"
      },
      "execution_count": null,
      "outputs": [
        {
          "output_type": "stream",
          "name": "stdout",
          "text": [
            "df size from (104543, 44) -> (13960, 44)\n",
            "df size from (104543, 44) -> (13960, 44)\n",
            "df size from (104543, 44) -> (13960, 44)\n"
          ]
        }
      ]
    },
    {
      "cell_type": "markdown",
      "source": [
        "# Drop unlabeled data"
      ],
      "metadata": {
        "id": "26tcDT2fLxi9"
      }
    },
    {
      "cell_type": "code",
      "source": [
        "%%bash\n",
        "STARTYEAR=2020\n",
        "ENDYEAR=2021\n",
        "for (( c=$STARTYEAR; c<=$ENDYEAR; c++ ))\n",
        "do\n",
        "  STARTMONTH=1\n",
        "  ENDMONTH=12\n",
        "  for (( d=$STARTMONTH; d<=$ENDMONTH; d++ ))\n",
        "  do\n",
        "    wget \"https://bd.kma.go.kr/contest/resources/$c$(printf '%02d' $d).zip\"\n",
        "    unzip \"/content/$c$(printf '%02d' $d).zip\" -d \"/content/data\"\n",
        "  done\n",
        "done"
      ],
      "metadata": {
        "id": "kB07B3CvazsT"
      },
      "execution_count": null,
      "outputs": []
    },
    {
      "cell_type": "code",
      "source": [
        "folderpath='data/'\n",
        "\n",
        "for year in [2020]:\n",
        "  for month in range(3,4):\n",
        "    allmon = []\n",
        "    for i in range(1,32):\n",
        "      try:\n",
        "        df = pd.read_csv(folderpath + '%d%02d%02d.LST.csv'%(year,month,i),names=cols)\n",
        "      except FileNotFoundError:\n",
        "        print('%d%02d%02d.LST.csv missing'%(year,month,i))\n",
        "        continue\n",
        "      # exclude testset\n",
        "      if year==2021 and ((month==7 and 1<=i and i<=11) or (month==8 and 21<=i and i<=31)):\n",
        "        continue\n",
        "\n",
        "      len0 = df.shape[0]\n",
        "      df = df.loc[(df['isitu-LST'] > -999) | (df['insitu-TA'] > -999)]\n",
        "      len1 = df.shape[0]\n",
        "      print(f\"dropped {len0-len1}, concatenating {len1} from\",'%d%02d%02d.LST.csv'%(year,month,i))\n",
        "      allmon.append(df)\n",
        "      \n",
        "    if len(allmon) != 0:\n",
        "      df_all = pd.concat(allmon)\n",
        "      print('='*10 + ' %d%02d done '%(year,month) + '='*10 + f'  {df_all.shape}')\n",
        "      df_all.to_csv('%d%02d.LST.csv'%(year,month),header=False, index=False)"
      ],
      "metadata": {
        "id": "ak310q3lt4CI"
      },
      "execution_count": null,
      "outputs": []
    },
    {
      "cell_type": "markdown",
      "source": [
        "# Gather test data"
      ],
      "metadata": {
        "id": "g4aPobAqeyQO"
      }
    },
    {
      "cell_type": "code",
      "source": [
        "%%bash\n",
        "YEAR=2021\n",
        "STARTMONTH=7\n",
        "ENDMONTH=8\n",
        "for (( d=$STARTMONTH; d<=$ENDMONTH; d++ ))\n",
        "do\n",
        "  wget \"https://bd.kma.go.kr/contest/resources/$YEAR$(printf '%02d' $d).zip\"\n",
        "  unzip \"/content/$YEAR$(printf '%02d' $d).zip\" -d \"/content/data\"\n",
        "done"
      ],
      "metadata": {
        "id": "3Cmv8i8rexcm"
      },
      "execution_count": null,
      "outputs": []
    },
    {
      "cell_type": "code",
      "source": [
        "df = pd.read_csv('data/202107/20210701.LST.csv')\n",
        "df.dtypes"
      ],
      "metadata": {
        "id": "uZx4_aaWkaZS"
      },
      "execution_count": null,
      "outputs": []
    },
    {
      "cell_type": "code",
      "source": [
        "testsetcols = cols[:]\n",
        "testsetcols.remove('isitu-LST')\n",
        "testsetcols.remove('insitu-TA')\n",
        "print(len(testsetcols))\n",
        "testdays = {7:(1,11), 8:(21,31)}\n",
        "folderpath = '/content/data/'\n",
        "dfList = []\n",
        "for month in [7, 8]:\n",
        "  day0, day1 = testdays[month]\n",
        "  for day in range(day0,day1+1):\n",
        "    df = pd.read_csv(folderpath+'2021%02d/2021%02d%02d.LST.csv'%(month,month,day), usecols=testsetcols)\n",
        "    dfList.append(df)\n",
        "    print(f'appended {df.shape[0]}rows from '+'2021%02d/2021%02d%02d.LST.csv'%(month,month,day))\n",
        "df_all = pd.concat(dfList)\n",
        "print(f'{df_all.shape[0]} rows concatenated')\n",
        "\n",
        "df_all.to_csv('test.LST.csv',header=False, index=False)\n",
        "print('test.LST.csv saved')"
      ],
      "metadata": {
        "id": "eGCjxPjSfXpf"
      },
      "execution_count": null,
      "outputs": []
    },
    {
      "cell_type": "code",
      "source": [
        "print(df_all.shape)"
      ],
      "metadata": {
        "colab": {
          "base_uri": "https://localhost:8080/"
        },
        "id": "OYyrRrznl05s",
        "outputId": "21513973-745b-4d5a-83ba-5da00421a7b9"
      },
      "execution_count": null,
      "outputs": [
        {
          "output_type": "stream",
          "name": "stdout",
          "text": [
            "(54503, 27)\n"
          ]
        }
      ]
    },
    {
      "cell_type": "markdown",
      "source": [
        "# Training"
      ],
      "metadata": {
        "id": "Y0xYg6cW4zkd"
      }
    },
    {
      "cell_type": "code",
      "source": [
        "!gdown 1-EMhXFZJhzG7km6m75MoM3lsAVDpKji3\n",
        "!mv 2yearsData.LST.csv train10M.csv"
      ],
      "metadata": {
        "id": "Yvvg0vSJ5H5O",
        "colab": {
          "base_uri": "https://localhost:8080/"
        },
        "outputId": "c3b684a6-5cad-4edf-fe7f-9fa8c80a101d"
      },
      "execution_count": 3,
      "outputs": [
        {
          "output_type": "stream",
          "name": "stdout",
          "text": [
            "Downloading...\n",
            "From: https://drive.google.com/uc?id=1-EMhXFZJhzG7km6m75MoM3lsAVDpKji3\n",
            "To: /content/2yearsData.LST.csv\n",
            "100% 3.51G/3.51G [00:45<00:00, 77.3MB/s]\n"
          ]
        }
      ]
    },
    {
      "cell_type": "code",
      "source": [
        "import sklearn\n",
        "from sklearn.ensemble import RandomForestRegressor\n",
        "from sklearn.ensemble import GradientBoostingRegressor\n",
        "from sklearn.ensemble import AdaBoostRegressor\n",
        "\n",
        "from sklearn.model_selection import train_test_split\n",
        "import joblib"
      ],
      "metadata": {
        "id": "2z5rarTnFGd8"
      },
      "execution_count": 4,
      "outputs": []
    },
    {
      "cell_type": "code",
      "source": [
        "RANDOM_STATE = 31415\n",
        "target = targets[:1] # isitu-LST\n",
        "timecol = features[:1] # time column\n",
        "featureInUse = features[1:] # excluding time column\n",
        "# sample fraction of train data\n",
        "fraction = 0.005 # 0.0 ~ 1.0"
      ],
      "metadata": {
        "id": "5d7DJTmeF33F"
      },
      "execution_count": 5,
      "outputs": []
    },
    {
      "cell_type": "code",
      "source": [
        "df = pd.read_csv(f'/content/train10M.csv',usecols=timecol+featureInUse+target)\n",
        "print(df.shape)"
      ],
      "metadata": {
        "colab": {
          "base_uri": "https://localhost:8080/"
        },
        "id": "chls5dGA49B2",
        "outputId": "8febafe7-ae67-4a10-8160-c2c022d26622"
      },
      "execution_count": 6,
      "outputs": [
        {
          "output_type": "stream",
          "name": "stdout",
          "text": [
            "(10583013, 28)\n"
          ]
        }
      ]
    },
    {
      "cell_type": "code",
      "source": [
        "X_train, X_test, Y_train, Y_test = train_test_split(\n",
        "    df.loc[:,timecol+featureInUse],df.loc[:,target], test_size=0.2*fraction, train_size=0.8*fraction, \n",
        "    random_state=RANDOM_STATE, shuffle=True, stratify=None)\n",
        "print(f\"{X_train.shape[0]} train values, {X_test.shape[0]} test values out of {df.shape[0]} values\")\n",
        "print(X_train.shape)\n",
        "print(X_test.shape)\n",
        "print(Y_train.shape)\n",
        "print(Y_test.shape)"
      ],
      "metadata": {
        "colab": {
          "base_uri": "https://localhost:8080/"
        },
        "id": "mQnMqp5VGoEw",
        "outputId": "2b4cd14f-6d35-4418-88a8-bed9d499ebd7"
      },
      "execution_count": 21,
      "outputs": [
        {
          "output_type": "stream",
          "name": "stdout",
          "text": [
            "42332 train values, 10584 test values out of 10583013 values\n",
            "(42332, 27)\n",
            "(10584, 27)\n",
            "(42332, 1)\n",
            "(10584, 1)\n"
          ]
        }
      ]
    },
    {
      "cell_type": "code",
      "source": [
        "# Trying to split YMDH to 4 different columns\n",
        "for df_subset in [X_train, X_test]:\n",
        "  YMDH = pd.to_datetime(df_subset[timecol[0]])\n",
        "  df_subset.insert(0,'Hour',YMDH.dt.hour)\n",
        "  df_subset.insert(0,'Day',YMDH.dt.day)\n",
        "  df_subset.insert(0,'Month',YMDH.dt.month)\n",
        "  df_subset.insert(0,'Year',YMDH.dt.year)\n",
        "  df_subset.drop(columns=timecol[0], inplace=True)\n",
        "\n",
        "for df_subset in [X_train, X_test, Y_train, Y_test]:\n",
        "  print(df_subset.shape)"
      ],
      "metadata": {
        "colab": {
          "base_uri": "https://localhost:8080/"
        },
        "id": "lLZzUX30wSBl",
        "outputId": "1759b361-a442-4829-8df8-9ac83d8945fa"
      },
      "execution_count": 22,
      "outputs": [
        {
          "output_type": "stream",
          "name": "stdout",
          "text": [
            "(42332, 30)\n",
            "(10584, 30)\n",
            "(42332, 1)\n",
            "(10584, 1)\n"
          ]
        }
      ]
    },
    {
      "cell_type": "markdown",
      "source": [
        "**WARNING! training all 3 models at the same time will require LARGE amount of memory**"
      ],
      "metadata": {
        "id": "Lra79wOaGLEb"
      }
    },
    {
      "cell_type": "markdown",
      "source": [
        "## Random Forest Regressor"
      ],
      "metadata": {
        "id": "CWBhrQP35Att"
      }
    },
    {
      "cell_type": "code",
      "source": [
        "RFR_model = RandomForestRegressor(\n",
        "    n_estimators=100,\n",
        "    criterion='squared_error', \n",
        "    max_depth=None, \n",
        "    min_samples_split=2, \n",
        "    min_samples_leaf=1, \n",
        "    min_weight_fraction_leaf=0.0, \n",
        "    max_features=1.0, \n",
        "    max_leaf_nodes=None, \n",
        "    min_impurity_decrease=0.0, \n",
        "    bootstrap=True, \n",
        "    oob_score=False, \n",
        "    n_jobs=None, \n",
        "    random_state=RANDOM_STATE, \n",
        "    verbose=1, \n",
        "    warm_start=False, \n",
        "    ccp_alpha=0.0, \n",
        "    max_samples=None\n",
        ")"
      ],
      "metadata": {
        "id": "6M8owEuJFk4N"
      },
      "execution_count": null,
      "outputs": []
    },
    {
      "cell_type": "code",
      "source": [
        "RFR_model.fit(X_train, Y_train.values.ravel())"
      ],
      "metadata": {
        "colab": {
          "base_uri": "https://localhost:8080/"
        },
        "id": "rK5WlkQcGAcz",
        "outputId": "aed9e703-4861-472f-8c03-2a7f14e1b484"
      },
      "execution_count": null,
      "outputs": [
        {
          "output_type": "stream",
          "name": "stderr",
          "text": [
            "[Parallel(n_jobs=1)]: Using backend SequentialBackend with 1 concurrent workers.\n",
            "[Parallel(n_jobs=1)]: Done 100 out of 100 | elapsed:  3.4min finished\n"
          ]
        },
        {
          "output_type": "execute_result",
          "data": {
            "text/plain": [
              "RandomForestRegressor(max_features=1.0, random_state=31415, verbose=1)"
            ]
          },
          "metadata": {},
          "execution_count": 19
        }
      ]
    },
    {
      "cell_type": "code",
      "source": [
        "prediction = RFR_model.predict(X_test)\n",
        "diff = prediction - Y_test.values.ravel()\n",
        "loss = np.sqrt(np.mean(diff**2))\n",
        "print(f'RMSE loss {loss}')"
      ],
      "metadata": {
        "colab": {
          "base_uri": "https://localhost:8080/"
        },
        "id": "_Vl88d9aKuME",
        "outputId": "dcfb492e-628a-4aa5-8bf3-874dc98b8f10"
      },
      "execution_count": null,
      "outputs": [
        {
          "output_type": "stream",
          "name": "stderr",
          "text": [
            "[Parallel(n_jobs=1)]: Using backend SequentialBackend with 1 concurrent workers.\n"
          ]
        },
        {
          "output_type": "stream",
          "name": "stdout",
          "text": [
            "RMSE loss 3.6826393831924946\n"
          ]
        },
        {
          "output_type": "stream",
          "name": "stderr",
          "text": [
            "[Parallel(n_jobs=1)]: Done 100 out of 100 | elapsed:    1.2s finished\n"
          ]
        }
      ]
    },
    {
      "cell_type": "code",
      "source": [
        "plt.figure(figsize=(10,3))\n",
        "plt.title(f'pred & truth & diff of {X_test.shape[0]} data')\n",
        "plt.plot(Y_test.values.ravel(), label='Truth')\n",
        "plt.plot(prediction,label='pred')\n",
        "plt.plot(diff,label='diff')\n",
        "plt.legend()\n",
        "plt.show()"
      ],
      "metadata": {
        "colab": {
          "base_uri": "https://localhost:8080/",
          "height": 227
        },
        "id": "mHpOa12qLNHR",
        "outputId": "871d7668-812f-4f5c-fc69-572e1ed16b24"
      },
      "execution_count": null,
      "outputs": [
        {
          "output_type": "display_data",
          "data": {
            "text/plain": [
              "<Figure size 720x216 with 1 Axes>"
            ],
            "image/png": "[encoded data removed]"
          },
          "metadata": {
            "needs_background": "light"
          }
        }
      ]
    },
    {
      "cell_type": "code",
      "source": [
        "# save model\n",
        "joblib.dump(RFR_model, f'RFR_{fraction}') "
      ],
      "metadata": {
        "colab": {
          "base_uri": "https://localhost:8080/"
        },
        "id": "i2pFFT9tCFTo",
        "outputId": "d2e3aa3a-15f4-44c6-824c-80146d80e36b"
      },
      "execution_count": null,
      "outputs": [
        {
          "output_type": "execute_result",
          "data": {
            "text/plain": [
              "['RFR_202001']"
            ]
          },
          "metadata": {},
          "execution_count": 17
        }
      ]
    },
    {
      "cell_type": "markdown",
      "source": [
        "## Gradient Boosting Regressor"
      ],
      "metadata": {
        "id": "MZK7OGlgAfMj"
      }
    },
    {
      "cell_type": "code",
      "source": [
        "GBR_model = GradientBoostingRegressor(\n",
        "    loss='squared_error', \n",
        "    learning_rate=0.1, \n",
        "    n_estimators=200, \n",
        "    subsample=1.0, \n",
        "    criterion='friedman_mse', \n",
        "    min_samples_split=2, \n",
        "    min_samples_leaf=1, \n",
        "    min_weight_fraction_leaf=0.0, \n",
        "    max_depth=3, \n",
        "    min_impurity_decrease=0.0, \n",
        "    init=None, \n",
        "    random_state=RANDOM_STATE, \n",
        "    max_features=None, \n",
        "    alpha=0.9, # only for huber loss or quantile loss\n",
        "    verbose=1, \n",
        "    max_leaf_nodes=None, \n",
        "    warm_start=False, # resume from previous fit\n",
        "    validation_fraction=0.1, \n",
        "    n_iter_no_change=30, # n of iters with no improvement\n",
        "    tol=0.0001, \n",
        "    ccp_alpha=0.0\n",
        ")"
      ],
      "metadata": {
        "id": "kNXmt7i7AmWw"
      },
      "execution_count": null,
      "outputs": []
    },
    {
      "cell_type": "code",
      "source": [
        "GBR_model.fit(X_train,Y_train.values.ravel())"
      ],
      "metadata": {
        "colab": {
          "base_uri": "https://localhost:8080/"
        },
        "id": "0Eou92NwC3xq",
        "outputId": "330d827d-ee65-48e3-d23a-3e6d759914ab"
      },
      "execution_count": null,
      "outputs": [
        {
          "output_type": "stream",
          "name": "stdout",
          "text": [
            "      Iter       Train Loss   Remaining Time \n",
            "         1         115.6347            2.16m\n",
            "         2          99.8568            1.94m\n",
            "         3          86.8791            1.87m\n",
            "         4          76.3430            1.82m\n",
            "         5          67.6314            1.80m\n",
            "         6          60.5036            1.78m\n",
            "         7          54.4496            1.77m\n",
            "         8          49.4818            1.75m\n",
            "         9          45.4581            1.74m\n",
            "        10          42.0050            1.73m\n",
            "        20          27.4036            1.63m\n",
            "        30          23.1016            1.52m\n",
            "        40          20.8544            1.42m\n",
            "        50          19.3543            1.33m\n",
            "        60          18.4296            1.23m\n",
            "        70          17.7658            1.14m\n",
            "        80          17.2512            1.06m\n",
            "        90          16.8288           57.95s\n",
            "       100          16.4358           52.60s\n",
            "       200          14.3885            0.00s\n"
          ]
        },
        {
          "output_type": "execute_result",
          "data": {
            "text/plain": [
              "GradientBoostingRegressor(n_estimators=200, n_iter_no_change=30,\n",
              "                          random_state=31415, verbose=1)"
            ]
          },
          "metadata": {},
          "execution_count": 25
        }
      ]
    },
    {
      "cell_type": "code",
      "source": [
        "prediction = GBR_model.predict(X_test)\n",
        "diff = prediction - Y_test.values.ravel()\n",
        "loss = np.sqrt(np.mean(diff**2))\n",
        "print(f'RMSE loss {loss}')"
      ],
      "metadata": {
        "colab": {
          "base_uri": "https://localhost:8080/"
        },
        "id": "Pn4giskjDA3s",
        "outputId": "b3034b27-b918-479b-e007-69eed7f0bd47"
      },
      "execution_count": null,
      "outputs": [
        {
          "output_type": "stream",
          "name": "stdout",
          "text": [
            "RMSE loss 3.9008046385672372\n"
          ]
        }
      ]
    },
    {
      "cell_type": "code",
      "source": [
        "plt.figure(figsize=(10,3))\n",
        "plt.title(f'pred & truth & diff of {X_test.shape[0]} data')\n",
        "plt.plot(Y_test.values.ravel(), label='Truth')\n",
        "plt.plot(prediction,label='pred')\n",
        "plt.plot(diff,label='diff')\n",
        "plt.legend()\n",
        "plt.show()"
      ],
      "metadata": {
        "colab": {
          "base_uri": "https://localhost:8080/",
          "height": 227
        },
        "id": "1hC4D7RwDRDC",
        "outputId": "eb7bdb4a-a193-4912-9e36-db43e0ba0e2b"
      },
      "execution_count": null,
      "outputs": [
        {
          "output_type": "display_data",
          "data": {
            "text/plain": [
              "<Figure size 720x216 with 1 Axes>"
            ],
            "image/png": "[encoded data removed]"
          },
          "metadata": {
            "needs_background": "light"
          }
        }
      ]
    },
    {
      "cell_type": "code",
      "source": [
        "# save model\n",
        "joblib.dump(GBR_model, f'GBR_{fraction}') "
      ],
      "metadata": {
        "id": "5SNOr3ubDTuu"
      },
      "execution_count": null,
      "outputs": []
    },
    {
      "cell_type": "markdown",
      "source": [
        "## Adaboost Regressor"
      ],
      "metadata": {
        "id": "TgNneBT3Ety6"
      }
    },
    {
      "cell_type": "code",
      "source": [
        "AR_model = AdaBoostRegressor(\n",
        "    base_estimator=None,\n",
        "    n_estimators=50, \n",
        "    learning_rate=1.0, \n",
        "    loss='square', \n",
        "    random_state=RANDOM_STATE\n",
        ")"
      ],
      "metadata": {
        "id": "cw9oepjRE2In"
      },
      "execution_count": null,
      "outputs": []
    },
    {
      "cell_type": "code",
      "source": [
        "AR_model.fit(X_train,Y_train.values.ravel())"
      ],
      "metadata": {
        "colab": {
          "base_uri": "https://localhost:8080/"
        },
        "id": "Pbd5ZACyFZvt",
        "outputId": "b8bb21dc-77d8-46d7-c598-ca1ea8313cdc"
      },
      "execution_count": null,
      "outputs": [
        {
          "output_type": "execute_result",
          "data": {
            "text/plain": [
              "AdaBoostRegressor(loss='square', random_state=31415)"
            ]
          },
          "metadata": {},
          "execution_count": 29
        }
      ]
    },
    {
      "cell_type": "code",
      "source": [
        "prediction = AR_model.predict(X_test)\n",
        "diff = prediction - Y_test.values.ravel()\n",
        "loss = np.sqrt(np.mean(diff**2))\n",
        "print(f'RMSE loss {loss}')"
      ],
      "metadata": {
        "colab": {
          "base_uri": "https://localhost:8080/"
        },
        "id": "LwNJHI1gFoDZ",
        "outputId": "9cc3687f-e920-4904-d0af-4daa365c9d62"
      },
      "execution_count": null,
      "outputs": [
        {
          "output_type": "stream",
          "name": "stdout",
          "text": [
            "RMSE loss 6.375204286914479\n"
          ]
        }
      ]
    },
    {
      "cell_type": "code",
      "source": [
        "plt.figure(figsize=(10,3))\n",
        "plt.title(f'pred & truth & diff of {X_test.shape[0]} data')\n",
        "plt.plot(Y_test.values.ravel(), label='Truth')\n",
        "plt.plot(prediction,label='pred')\n",
        "plt.plot(diff,label='diff')\n",
        "plt.legend()\n",
        "plt.show()"
      ],
      "metadata": {
        "colab": {
          "base_uri": "https://localhost:8080/",
          "height": 227
        },
        "id": "4b-lNY8oFwkJ",
        "outputId": "20be6fd0-4403-4816-e16f-093258f8bbd3"
      },
      "execution_count": null,
      "outputs": [
        {
          "output_type": "display_data",
          "data": {
            "text/plain": [
              "<Figure size 720x216 with 1 Axes>"
            ],
            "image/png": "[encoded data removed]"
          },
          "metadata": {
            "needs_background": "light"
          }
        }
      ]
    },
    {
      "cell_type": "code",
      "source": [
        "# save model\n",
        "joblib.dump(GBR_model, f'AR_{fraction}') "
      ],
      "metadata": {
        "id": "VPZ0YOixF7he"
      },
      "execution_count": null,
      "outputs": []
    },
    {
      "cell_type": "markdown",
      "source": [
        "# save dataset to drive"
      ],
      "metadata": {
        "id": "xsiy9lfB0ns3"
      }
    },
    {
      "cell_type": "code",
      "source": [
        "!cp /content/drive/MyDrive/Dataset/GroundTemp/* /content/train/."
      ],
      "metadata": {
        "id": "LVdfsYe913_P"
      },
      "execution_count": null,
      "outputs": []
    },
    {
      "cell_type": "code",
      "source": [
        "!zip /content/train.zip /content/train/*"
      ],
      "metadata": {
        "colab": {
          "base_uri": "https://localhost:8080/"
        },
        "id": "5gv2fn_f2v3W",
        "outputId": "66caa657-3b84-470c-946a-320e305e2f03"
      },
      "execution_count": null,
      "outputs": [
        {
          "output_type": "stream",
          "name": "stdout",
          "text": [
            "  adding: content/train/202001.LST.csv (deflated 69%)\n",
            "  adding: content/train/202002.LST.csv (deflated 68%)\n",
            "  adding: content/train/202003.LST.csv (deflated 68%)\n",
            "  adding: content/train/202004.LST.csv (deflated 68%)\n",
            "  adding: content/train/202005.LST.csv (deflated 67%)\n",
            "  adding: content/train/202006.LST.csv (deflated 67%)\n",
            "  adding: content/train/202007.LST.csv (deflated 67%)\n",
            "  adding: content/train/202008.LST.csv (deflated 67%)\n",
            "  adding: content/train/202009.LST.csv (deflated 68%)\n",
            "  adding: content/train/202010.LST.csv (deflated 68%)\n",
            "  adding: content/train/202011.LST.csv (deflated 68%)\n",
            "  adding: content/train/202101.LST.csv (deflated 70%)\n",
            "  adding: content/train/202102.LST.csv (deflated 69%)\n",
            "  adding: content/train/202103.LST.csv (deflated 68%)\n",
            "  adding: content/train/202104.LST.csv (deflated 68%)\n",
            "  adding: content/train/202105.LST.csv (deflated 68%)\n",
            "  adding: content/train/202106.LST.csv (deflated 67%)\n",
            "  adding: content/train/202109.LST.csv (deflated 68%)\n",
            "  adding: content/train/202110.LST.csv (deflated 69%)\n",
            "  adding: content/train/202111.LST.csv (deflated 68%)\n",
            "  adding: content/train/202112.LST.csv (deflated 69%)\n"
          ]
        }
      ]
    },
    {
      "cell_type": "code",
      "source": [
        "!cp train.zip /content/drive/MyDrive/Dataset/GroundTemp/."
      ],
      "metadata": {
        "id": "AD2SQl3z4UAz"
      },
      "execution_count": null,
      "outputs": []
    }
  ]
}